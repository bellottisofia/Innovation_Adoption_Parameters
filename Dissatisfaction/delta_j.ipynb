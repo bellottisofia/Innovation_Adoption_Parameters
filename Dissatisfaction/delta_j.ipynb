{
  "nbformat": 4,
  "nbformat_minor": 0,
  "metadata": {
    "colab": {
      "provenance": [],
      "authorship_tag": "ABX9TyNayH8YMncydTiqTjCCioXY",
      "include_colab_link": true
    },
    "kernelspec": {
      "name": "python3",
      "display_name": "Python 3"
    },
    "language_info": {
      "name": "python"
    }
  },
  "cells": [
    {
      "cell_type": "markdown",
      "metadata": {
        "id": "view-in-github",
        "colab_type": "text"
      },
      "source": [
        "<a href=\"https://colab.research.google.com/github/bellottisofia/Innovation_Adoption_Parameters/blob/main/delta_j.ipynb\" target=\"_parent\"><img src=\"https://colab.research.google.com/assets/colab-badge.svg\" alt=\"Open In Colab\"/></a>"
      ]
    },
    {
      "cell_type": "markdown",
      "source": [
        "We aim to associate a parameter reflecting the level of dissatisfaction with electric vehicles for each population.  "
      ],
      "metadata": {
        "id": "1nBpgVoXumzJ"
      }
    },
    {
      "cell_type": "code",
      "execution_count": null,
      "metadata": {
        "id": "nwqfvHlcujBN"
      },
      "outputs": [],
      "source": [
        "import numpy as np\n",
        "import matplotlib.pyplot as plt\n",
        "import pandas as pd\n"
      ]
    },
    {
      "cell_type": "code",
      "source": [
        "df = pd.read_csv('/content/dataset_clean2.csv')"
      ],
      "metadata": {
        "id": "Eygc7u54u4Yi"
      },
      "execution_count": null,
      "outputs": []
    },
    {
      "cell_type": "code",
      "source": [
        "km_map = {\n",
        "     \"I don't know\":np.nan,\n",
        "    'Less than 1.000 km': 'less than 4.999',\n",
        "     '1.000-4.9999':'less than 4.999',\n",
        "    '5.000-9.999': '5.000-9.999'  ,\n",
        "    '10.000-19.999':'10.000-19.999',\n",
        "    '20.000-29.999': '20.000-29.999' ,\n",
        "\n",
        "     '30.000-39.999' : 'more than 30.000',\n",
        "\n",
        "\n",
        "    '40.000-49.999' :'more than 30.000' ,\n",
        "     '50.000 or more' : 'more than 30.000',\n",
        "}\n",
        "\n"
      ],
      "metadata": {
        "id": "jYdMcFp7zHmR"
      },
      "execution_count": null,
      "outputs": []
    },
    {
      "cell_type": "code",
      "source": [
        "df['km_year'] = df['Q7'].map(km_map)\n",
        "df.drop(columns=['Q7'], inplace=True)"
      ],
      "metadata": {
        "id": "WHtLT-J_zVzZ"
      },
      "execution_count": null,
      "outputs": []
    },
    {
      "cell_type": "code",
      "source": [
        "df_Germany=df.loc[df['Country']=='Germany']"
      ],
      "metadata": {
        "id": "cIb5F5eQvQ8l"
      },
      "execution_count": null,
      "outputs": []
    },
    {
      "cell_type": "code",
      "source": [
        "# mean\n",
        "population_Germany = df_Germany.groupby(['Lftcat', 'km_year'])['dissatisfied'].mean().reset_index()\n",
        "\n",
        "# Rename column from 'dissatisfied' to 'delta_year'\n",
        "population_Germany.rename(columns={'dissatisfied': 'delta_year'}, inplace=True)\n",
        "# Add combined column combinata 'population'\n",
        "population_Germany['population'] = population_Germany['Lftcat'] + '_' + population_Germany['km_year'].astype(str)\n",
        "\n",
        "# Select columns and save in CSV format\n",
        "population_Germany[['population', 'delta_year']].to_csv('population_Germany_year.csv', index=False)\n",
        "\n"
      ],
      "metadata": {
        "id": "4sWmkOm9z7xH"
      },
      "execution_count": null,
      "outputs": []
    }
  ]
}

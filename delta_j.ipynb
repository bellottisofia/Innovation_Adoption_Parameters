{
  "nbformat": 4,
  "nbformat_minor": 0,
  "metadata": {
    "colab": {
      "provenance": [],
      "authorship_tag": "ABX9TyORUc5ehb96fICPZJa0Jhpf",
      "include_colab_link": true
    },
    "kernelspec": {
      "name": "python3",
      "display_name": "Python 3"
    },
    "language_info": {
      "name": "python"
    }
  },
  "cells": [
    {
      "cell_type": "markdown",
      "metadata": {
        "id": "view-in-github",
        "colab_type": "text"
      },
      "source": [
        "<a href=\"https://colab.research.google.com/github/bellottisofia/Innovation_Adoption_Parameters/blob/main/delta_j.ipynb\" target=\"_parent\"><img src=\"https://colab.research.google.com/assets/colab-badge.svg\" alt=\"Open In Colab\"/></a>"
      ]
    },
    {
      "cell_type": "markdown",
      "source": [
        "per ogni popolazione vogliamo associare un tasso delta_day_j di insoddisfazione"
      ],
      "metadata": {
        "id": "1nBpgVoXumzJ"
      }
    },
    {
      "cell_type": "code",
      "execution_count": null,
      "metadata": {
        "id": "nwqfvHlcujBN"
      },
      "outputs": [],
      "source": [
        "import numpy as np\n",
        "import matplotlib.pyplot as plt\n",
        "import pandas as pd\n"
      ]
    },
    {
      "cell_type": "code",
      "source": [
        "df = pd.read_csv('/content/dataset_clean2.csv')\n",
        "df_NL= pd.read_csv('/content/NL_clean2.csv')"
      ],
      "metadata": {
        "id": "Eygc7u54u4Yi"
      },
      "execution_count": null,
      "outputs": []
    },
    {
      "cell_type": "code",
      "source": [
        "km_mapping = {\n",
        "    \"I don't know\":np.nan,\n",
        "    'Less than 10 km': 'Less than 10 km',\n",
        "\n",
        "    '10-19 km': '10-19 km'  ,\n",
        "    '20-29 km': '20-29 km' ,\n",
        "\n",
        "     '30-39 km' : '30-49 km',\n",
        "    '40-49 km' : '30-49 km',\n",
        "\n",
        "    '50-99 km' :'more than 50' ,\n",
        "     '100-199 km': 'more than 50',\n",
        "\n",
        "    '200 km or more': 'more than 50'\n",
        "}\n",
        "\n",
        "\n"
      ],
      "metadata": {
        "id": "jPdy74icwGvH"
      },
      "execution_count": null,
      "outputs": []
    },
    {
      "cell_type": "code",
      "source": [
        "km_map = {\n",
        "     \"I don't know\":np.nan,\n",
        "    'Less than 1.000 km': 'less than 4.999',\n",
        "     '1.000-4.9999':'less than 4.999',\n",
        "    '5.000-9.999': '5.000-9.999'  ,\n",
        "    '10.000-19.999':'10.000-19.999',\n",
        "    '20.000-29.999': '20.000-29.999' ,\n",
        "\n",
        "     '30.000-39.999' : 'more than 30.000',\n",
        "\n",
        "\n",
        "    '40.000-49.999' :'more than 30.000' ,\n",
        "     '50.000 or more' : 'more than 30.000',\n",
        "}\n",
        "\n",
        "\n",
        "\n",
        "\n"
      ],
      "metadata": {
        "id": "jYdMcFp7zHmR"
      },
      "execution_count": null,
      "outputs": []
    },
    {
      "cell_type": "code",
      "source": [
        "#'Less than 10 km', '10-19 km','20-29 km', '30-49 km','50 or more km'\n",
        "# Supponendo che la colonna si chiami 'Education'\n",
        "df['km_day'] = df['Q8'].map(km_mapping)\n",
        "df.drop(columns=['Q8'], inplace=True)\n",
        "df_NL['km_day'] = df_NL['Q8'].map(km_mapping)\n",
        "df_NL.drop(columns=['Q8'], inplace=True)"
      ],
      "metadata": {
        "id": "vXQHB_4rwHWV"
      },
      "execution_count": null,
      "outputs": []
    },
    {
      "cell_type": "code",
      "source": [
        "df['km_year'] = df['Q7'].map(km_map)\n",
        "df.drop(columns=['Q7'], inplace=True)\n",
        "df_NL['km_year'] = df_NL['Q7'].map(km_map)\n",
        "df_NL.drop(columns=['Q7'], inplace=True)"
      ],
      "metadata": {
        "id": "WHtLT-J_zVzZ"
      },
      "execution_count": null,
      "outputs": []
    },
    {
      "cell_type": "code",
      "source": [
        "df_Denmark=df.loc[df['Country']=='Denmark']\n",
        "df_Norway=df.loc[df['Country']=='Norway']\n",
        "df_Germany=df.loc[df['Country']=='Germany']\n",
        "df_Hungary=df.loc[df['Country']=='Hungary']\n"
      ],
      "metadata": {
        "id": "cIb5F5eQvQ8l"
      },
      "execution_count": null,
      "outputs": []
    },
    {
      "cell_type": "code",
      "source": [
        "# Calcolo della media e trasformazione in DataFrame\n",
        "population_Denmark = df_Denmark.groupby(['Lftcat', 'km_day'])['insoddisfatti'].mean().reset_index()\n",
        "\n",
        "# Rinomina la colonna da 'insoddisfatti' a 'delta_day'\n",
        "population_Denmark.rename(columns={'insoddisfatti': 'delta_day'}, inplace=True)\n",
        "\n",
        "# Aggiunge una colonna combinata 'popolazione'\n",
        "population_Denmark['popolazione'] = population_Denmark['Lftcat'] + '_' + population_Denmark['km_day'].astype(str)\n",
        "\n",
        "# Seleziona solo le colonne desiderate e salva in CSV\n",
        "population_Denmark[['popolazione', 'delta_day']].to_csv('population_Denmark.csv', index=False)\n",
        "\n"
      ],
      "metadata": {
        "id": "8ZR4WZ3HvS-W"
      },
      "execution_count": null,
      "outputs": []
    },
    {
      "cell_type": "code",
      "source": [
        "# Calcolo della media e trasformazione in DataFrame\n",
        "population_Denmark_year = df_Denmark.groupby(['Lftcat', 'km_year'])['insoddisfatti'].mean().reset_index()\n",
        "\n",
        "# Rinomina la colonna da 'insoddisfatti' a 'delta_day'\n",
        "population_Denmark_year.rename(columns={'insoddisfatti': 'delta_year'}, inplace=True)\n",
        "\n",
        "# Aggiunge una colonna combinata 'popolazione'\n",
        "population_Denmark_year['popolazione'] = population_Denmark_year['Lftcat'] + '_' + population_Denmark_year['km_year'].astype(str)\n",
        "\n",
        "# Seleziona solo le colonne desiderate e salva in CSV\n",
        "population_Denmark_year[['popolazione', 'delta_year']].to_csv('population_Denmark_year.csv', index=False)\n",
        "\n"
      ],
      "metadata": {
        "id": "bHlbpDapznHr"
      },
      "execution_count": null,
      "outputs": []
    },
    {
      "cell_type": "code",
      "source": [
        "# Calcolo della media e trasformazione in DataFrame\n",
        "population_Norway = df_Norway.groupby(['Lftcat', 'km_day'])['insoddisfatti'].mean().reset_index()\n",
        "\n",
        "# Rinomina la colonna da 'insoddisfatti' a 'delta_day'\n",
        "population_Norway.rename(columns={'insoddisfatti': 'delta_day'}, inplace=True)\n",
        "\n",
        "# Aggiunge una colonna combinata 'popolazione'\n",
        "population_Norway['popolazione'] = population_Norway['Lftcat'] + '_' + population_Norway['km_day'].astype(str)\n",
        "\n",
        "# Seleziona solo le colonne desiderate e salva in CSV\n",
        "population_Norway[['popolazione', 'delta_day']].to_csv('population_Norway.csv', index=False)\n",
        "\n"
      ],
      "metadata": {
        "id": "B2i_2yRnx80-"
      },
      "execution_count": null,
      "outputs": []
    },
    {
      "cell_type": "code",
      "source": [
        "# Calcolo della media e trasformazione in DataFrame\n",
        "population_Norway_year = df_Norway.groupby(['Lftcat', 'km_year'])['insoddisfatti'].mean().reset_index()\n",
        "\n",
        "# Rinomina la colonna da 'insoddisfatti' a 'delta_day'\n",
        "population_Norway_year.rename(columns={'insoddisfatti': 'delta_year'}, inplace=True)\n",
        "\n",
        "# Aggiunge una colonna combinata 'popolazione'\n",
        "population_Norway_year['popolazione'] = population_Norway_year['Lftcat'] + '_' + population_Norway_year['km_year'].astype(str)\n",
        "\n",
        "# Seleziona solo le colonne desiderate e salva in CSV\n",
        "population_Norway_year[['popolazione', 'delta_year']].to_csv('population_Norway_year.csv', index=False)\n",
        "\n"
      ],
      "metadata": {
        "id": "jSYD9_fez6Sv"
      },
      "execution_count": null,
      "outputs": []
    },
    {
      "cell_type": "code",
      "source": [
        "# Calcolo della media e trasformazione in DataFrame\n",
        "population_Germany = df_Germany.groupby(['Lftcat', 'km_day'])['insoddisfatti'].mean().reset_index()\n",
        "\n",
        "# Rinomina la colonna da 'insoddisfatti' a 'delta_day'\n",
        "population_Germany.rename(columns={'insoddisfatti': 'delta_day'}, inplace=True)\n",
        "\n",
        "# Aggiunge una colonna combinata 'popolazione'\n",
        "population_Germany['popolazione'] = population_Germany['Lftcat'] + '_' + population_Germany['km_day'].astype(str)\n",
        "\n",
        "# Seleziona solo le colonne desiderate e salva in CSV\n",
        "population_Germany[['popolazione', 'delta_day']].to_csv('population_Germany.csv', index=False)\n",
        "\n"
      ],
      "metadata": {
        "id": "mlVD1XJ2x90-"
      },
      "execution_count": null,
      "outputs": []
    },
    {
      "cell_type": "code",
      "source": [
        "# Calcolo della media e trasformazione in DataFrame\n",
        "population_Germany_year = df_Germany.groupby(['Lftcat', 'km_year'])['insoddisfatti'].mean().reset_index()\n",
        "\n",
        "# Rinomina la colonna da 'insoddisfatti' a 'delta_day'\n",
        "population_Germany_year.rename(columns={'insoddisfatti': 'delta_year'}, inplace=True)\n",
        "\n",
        "# Aggiunge una colonna combinata 'popolazione'\n",
        "population_Germany_year['popolazione'] = population_Germany_year['Lftcat'] + '_' + population_Germany_year['km_year'].astype(str)\n",
        "\n",
        "# Seleziona solo le colonne desiderate e salva in CSV\n",
        "population_Germany_year[['popolazione', 'delta_year']].to_csv('population_Germany_year.csv', index=False)\n",
        "\n"
      ],
      "metadata": {
        "id": "4sWmkOm9z7xH"
      },
      "execution_count": null,
      "outputs": []
    },
    {
      "cell_type": "code",
      "source": [
        "# Calcolo della media e trasformazione in DataFrame\n",
        "population_Hungary = df_Hungary.groupby(['Lftcat', 'km_day'])['insoddisfatti'].mean().reset_index()\n",
        "\n",
        "# Rinomina la colonna da 'insoddisfatti' a 'delta_day'\n",
        "population_Hungary.rename(columns={'insoddisfatti': 'delta_day'}, inplace=True)\n",
        "\n",
        "# Aggiunge una colonna combinata 'popolazione'\n",
        "population_Hungary['popolazione'] = population_Hungary['Lftcat'] + '_' + population_Hungary['km_day'].astype(str)\n",
        "\n",
        "# Seleziona solo le colonne desiderate e salva in CSV\n",
        "population_Hungary[['popolazione', 'delta_day']].to_csv('population_Hungary.csv', index=False)\n",
        "\n"
      ],
      "metadata": {
        "id": "1wBtDLzux-XN"
      },
      "execution_count": null,
      "outputs": []
    },
    {
      "cell_type": "code",
      "source": [
        "# Calcolo della media e trasformazione in DataFrame\n",
        "population_Hungary_year = df_Hungary.groupby(['Lftcat', 'km_year'])['insoddisfatti'].mean().reset_index()\n",
        "\n",
        "# Rinomina la colonna da 'insoddisfatti' a 'delta_day'\n",
        "population_Hungary_year.rename(columns={'insoddisfatti': 'delta_year'}, inplace=True)\n",
        "\n",
        "# Aggiunge una colonna combinata 'popolazione'\n",
        "population_Hungary_year['popolazione'] = population_Hungary_year['Lftcat'] + '_' + population_Hungary_year['km_year'].astype(str)\n",
        "\n",
        "# Seleziona solo le colonne desiderate e salva in CSV\n",
        "population_Hungary_year[['popolazione', 'delta_year']].to_csv('population_Hungary_year.csv', index=False)\n",
        "\n"
      ],
      "metadata": {
        "id": "XkHxKZ0Vz8sg"
      },
      "execution_count": null,
      "outputs": []
    },
    {
      "cell_type": "code",
      "source": [
        "# Calcolo della media e trasformazione in DataFrame\n",
        "population_NL = df_NL.groupby(['Lftcat', 'km_day'])['insoddisfatti'].mean().reset_index()\n",
        "\n",
        "# Rinomina la colonna da 'insoddisfatti' a 'delta_day'\n",
        "population_NL.rename(columns={'insoddisfatti': 'delta_day'}, inplace=True)\n",
        "\n",
        "# Aggiunge una colonna combinata 'popolazione'\n",
        "population_NL['popolazione'] = population_NL['Lftcat'] + '_' + population_NL['km_day'].astype(str)\n",
        "\n",
        "# Seleziona solo le colonne desiderate e salva in CSV\n",
        "population_NL[['popolazione', 'delta_day']].to_csv('population_NL.csv', index=False)\n",
        "\n"
      ],
      "metadata": {
        "id": "nHpO-ApEx-4l"
      },
      "execution_count": null,
      "outputs": []
    },
    {
      "cell_type": "code",
      "source": [
        "# Calcolo della media e trasformazione in DataFrame\n",
        "population_NL_year = df_NL.groupby(['Lftcat', 'km_year'])['insoddisfatti'].mean().reset_index()\n",
        "\n",
        "# Rinomina la colonna da 'insoddisfatti' a 'delta_day'\n",
        "population_NL_year.rename(columns={'insoddisfatti': 'delta_year'}, inplace=True)\n",
        "\n",
        "# Aggiunge una colonna combinata 'popolazione'\n",
        "population_NL_year['popolazione'] = population_NL_year['Lftcat'] + '_' + population_NL_year['km_year'].astype(str)\n",
        "\n",
        "# Seleziona solo le colonne desiderate e salva in CSV\n",
        "population_NL_year[['popolazione', 'delta_year']].to_csv('population_NL_year.csv', index=False)\n",
        "\n"
      ],
      "metadata": {
        "id": "eHXkV7G1z9kO"
      },
      "execution_count": null,
      "outputs": []
    }
  ]
}
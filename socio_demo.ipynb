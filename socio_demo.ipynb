{
  "nbformat": 4,
  "nbformat_minor": 0,
  "metadata": {
    "colab": {
      "provenance": [],
      "authorship_tag": "ABX9TyNUObhFhrODQH8IYiF+djHf",
      "include_colab_link": true
    },
    "kernelspec": {
      "name": "python3",
      "display_name": "Python 3"
    },
    "language_info": {
      "name": "python"
    }
  },
  "cells": [
    {
      "cell_type": "markdown",
      "metadata": {
        "id": "view-in-github",
        "colab_type": "text"
      },
      "source": [
        "<a href=\"https://colab.research.google.com/github/bellottisofia/Innovation_Adoption_Parameters/blob/main/socio_demo.ipynb\" target=\"_parent\"><img src=\"https://colab.research.google.com/assets/colab-badge.svg\" alt=\"Open In Colab\"/></a>"
      ]
    },
    {
      "cell_type": "code",
      "source": [
        "import numpy as np\n",
        "import matplotlib.pyplot as plt\n",
        "import pandas as pd\n",
        "from sklearn.feature_selection import chi2"
      ],
      "metadata": {
        "id": "fxmtKIOl2kaV"
      },
      "execution_count": null,
      "outputs": []
    },
    {
      "cell_type": "code",
      "execution_count": null,
      "metadata": {
        "id": "YGp7E4yJ2S27"
      },
      "outputs": [],
      "source": [
        "df = pd.read_csv('/content/(3)_NL_EVsurvey_data_EN_datavalues.csv')"
      ]
    },
    {
      "cell_type": "code",
      "source": [
        "X=df[[\n",
        " 'nAgeCat',\n",
        " 'xHighLevEdu',\n",
        " 'xIncome',\n",
        " 'nIncCat',\n",
        " 'nProv',\n",
        " 'nGen',\n",
        " 'nAg',\n",
        " 'nEdu',\n",
        " 'nReg']]\n",
        "y=df['nQ16']"
      ],
      "metadata": {
        "id": "-TF74uQu3JnE"
      },
      "execution_count": null,
      "outputs": []
    },
    {
      "cell_type": "code",
      "source": [
        "chi_scores = chi2(X,y)"
      ],
      "metadata": {
        "id": "Lvt0Zloy23J1"
      },
      "execution_count": null,
      "outputs": []
    },
    {
      "cell_type": "code",
      "source": [
        "chi_scores"
      ],
      "metadata": {
        "colab": {
          "base_uri": "https://localhost:8080/"
        },
        "id": "4Nd2lwKi3sqc",
        "outputId": "f84b740f-fe09-492f-b792-232eb940165c"
      },
      "execution_count": null,
      "outputs": [
        {
          "output_type": "execute_result",
          "data": {
            "text/plain": [
              "(array([3.90878084e+01, 9.40893398e+01, 2.23845770e+09, 8.99339420e+00,\n",
              "        9.54050206e+00, 3.17724537e+00, 3.90878084e+01, 2.55751094e+01,\n",
              "        2.46484413e+00]),\n",
              " array([1.66289062e-08, 2.89743742e-20, 0.00000000e+00, 2.93788433e-02,\n",
              "        2.29043673e-02, 3.65096433e-01, 1.66289062e-08, 1.17048502e-05,\n",
              "        4.81678052e-01]))"
            ]
          },
          "metadata": {},
          "execution_count": 16
        }
      ]
    },
    {
      "cell_type": "code",
      "source": [
        "p_values = pd.Series(chi_scores[1],index = X.columns)\n",
        "p_values.sort_values(ascending = False , inplace = True)"
      ],
      "metadata": {
        "id": "nnUj5XP53x0k"
      },
      "execution_count": null,
      "outputs": []
    },
    {
      "cell_type": "code",
      "source": [
        "p_values.plot.bar()"
      ],
      "metadata": {
        "colab": {
          "base_uri": "https://localhost:8080/",
          "height": 525
        },
        "id": "89CkKJp_31Ts",
        "outputId": "9aa296c5-05ce-4553-ad2c-f418e81c1c5b"
      },
      "execution_count": null,
      "outputs": [
        {
          "output_type": "execute_result",
          "data": {
            "text/plain": [
              "<Axes: >"
            ]
          },
          "metadata": {},
          "execution_count": 18
        },
        {
          "output_type": "display_data",
          "data": {
            "text/plain": [
              "<Figure size 640x480 with 1 Axes>"
            ],
            "image/png": "[encoded data removed]"
          },
          "metadata": {}
        }
      ]
    },
    {
      "cell_type": "code",
      "source": [
        "from sklearn.ensemble import RandomForestClassifier\n",
        "\n",
        "model = RandomForestClassifier()\n",
        "model.fit(X, y)\n",
        "\n",
        "\n",
        "# Get feature importances\n",
        "feat_imp = pd.Series(model.feature_importances_, index=X.columns).sort_values(ascending=False)\n",
        "\n",
        "\n",
        "print(\"Feature Importance considering buying an EV\")\n",
        "print(feat_imp.head(10))\n"
      ],
      "metadata": {
        "id": "X2s7uG_pD9Zf",
        "colab": {
          "base_uri": "https://localhost:8080/"
        },
        "outputId": "307cefc7-c522-4214-a0bd-7a5826b31378"
      },
      "execution_count": 51,
      "outputs": [
        {
          "output_type": "stream",
          "name": "stdout",
          "text": [
            "Feature Importance considering buying an EV\n",
            "nProv          0.247962\n",
            "xIncome        0.155023\n",
            "nReg           0.145569\n",
            "xHighLevEdu    0.141697\n",
            "nGen           0.074833\n",
            "nAgeCat        0.073231\n",
            "nAg            0.071587\n",
            "nIncCat        0.052146\n",
            "nEdu           0.037951\n",
            "dtype: float64\n"
          ]
        }
      ]
    },
    {
      "cell_type": "code",
      "source": [
        "df2 = pd.read_csv('/content/(6)_Transnational_EVsurvey_datavalues.csv')\n"
      ],
      "metadata": {
        "id": "3ebwptTn6FZ0"
      },
      "execution_count": null,
      "outputs": []
    },
    {
      "cell_type": "markdown",
      "source": [
        "Germany"
      ],
      "metadata": {
        "id": "ZYT_q3b77z-I"
      }
    },
    {
      "cell_type": "code",
      "source": [
        "columnToFilter = \"Country\"\n",
        "itemToFilter = 6\n",
        "\n",
        "columnToFilter = columnToFilter.capitalize()\n",
        "\n",
        "\n",
        "df_ger = df2[df2[columnToFilter] == itemToFilter].reset_index(drop=True)\n",
        "\n",
        "X_Ger=df_ger[['Gender',\n",
        " 'RegionGermany',\n",
        " 'PunchRegionGermany',\n",
        " 'EducationGermany',\n",
        " 'Edu',\n",
        " 'PoliticsGermany','lft', 'Lftcat'\n",
        " ]]\n",
        "y2=df_ger['Q16']"
      ],
      "metadata": {
        "id": "SGC3fuP06j9J"
      },
      "execution_count": null,
      "outputs": []
    },
    {
      "cell_type": "code",
      "source": [
        "chi_scores2 = chi2(X_Ger,y2)"
      ],
      "metadata": {
        "id": "H7U85FlQ6Rpy"
      },
      "execution_count": null,
      "outputs": []
    },
    {
      "cell_type": "code",
      "source": [
        "chi_scores2"
      ],
      "metadata": {
        "colab": {
          "base_uri": "https://localhost:8080/"
        },
        "id": "BGHJQXyq6WRj",
        "outputId": "3da2664b-a2e8-422a-eb7a-fa4b2291d019"
      },
      "execution_count": null,
      "outputs": [
        {
          "output_type": "execute_result",
          "data": {
            "text/plain": [
              "(array([6.39261567e+00, 6.87211610e+00, 1.56942106e+00, 2.31040936e+01,\n",
              "        8.87247596e+00, 7.06532187e+09, 4.94101182e+02, 5.23985255e+01]),\n",
              " array([9.39950509e-002, 7.60875171e-002, 6.66343092e-001, 3.84149280e-005,\n",
              "        3.10353274e-002, 0.00000000e+000, 9.05765849e-107, 2.46301721e-011]))"
            ]
          },
          "metadata": {},
          "execution_count": 33
        }
      ]
    },
    {
      "cell_type": "code",
      "source": [
        "p_values2 = pd.Series(chi_scores2[1],index = X_Ger.columns)\n",
        "p_values2.sort_values(ascending = False , inplace = True)"
      ],
      "metadata": {
        "id": "0QF1Oxeo6Ymx"
      },
      "execution_count": null,
      "outputs": []
    },
    {
      "cell_type": "code",
      "source": [
        "p_values2.plot.bar()"
      ],
      "metadata": {
        "colab": {
          "base_uri": "https://localhost:8080/",
          "height": 586
        },
        "id": "YKninxDn6bpK",
        "outputId": "70e662fd-3c90-4745-c721-25cedbf0351c"
      },
      "execution_count": null,
      "outputs": [
        {
          "output_type": "execute_result",
          "data": {
            "text/plain": [
              "<Axes: >"
            ]
          },
          "metadata": {},
          "execution_count": 35
        },
        {
          "output_type": "display_data",
          "data": {
            "text/plain": [
              "<Figure size 640x480 with 1 Axes>"
            ],
            "image/png": "[encoded data removed]"
          },
          "metadata": {}
        }
      ]
    },
    {
      "cell_type": "code",
      "source": [
        "\n",
        "model_ger = RandomForestClassifier()\n",
        "model_ger.fit(X_Ger, y2)\n",
        "\n",
        "\n",
        "# Get feature importances\n",
        "feat_imp_ger = pd.Series(model_ger.feature_importances_, index=X_Ger.columns).sort_values(ascending=False)\n",
        "\n",
        "\n",
        "print(\"Feature Importance considering buying an EV\")\n",
        "print(feat_imp_ger.head(10))"
      ],
      "metadata": {
        "colab": {
          "base_uri": "https://localhost:8080/"
        },
        "id": "GUrFbVATE_Tw",
        "outputId": "bc536965-9c27-425d-f89a-b62e7562ade2"
      },
      "execution_count": 56,
      "outputs": [
        {
          "output_type": "stream",
          "name": "stdout",
          "text": [
            "Feature Importance considering buying an EV\n",
            "lft                   0.301297\n",
            "PoliticsGermany       0.212127\n",
            "RegionGermany         0.152575\n",
            "EducationGermany      0.107495\n",
            "PunchRegionGermany    0.086024\n",
            "Lftcat                0.063724\n",
            "Gender                0.043631\n",
            "Edu                   0.033128\n",
            "dtype: float64\n"
          ]
        }
      ]
    },
    {
      "cell_type": "markdown",
      "source": [
        "Hungary"
      ],
      "metadata": {
        "id": "Zqq3Akqp72dx"
      }
    },
    {
      "cell_type": "code",
      "source": [
        "columnToFilter = \"Country\"\n",
        "itemToFilter = 31\n",
        "\n",
        "columnToFilter = columnToFilter.capitalize()\n",
        "\n",
        "\n",
        "df_hun = df2[df2[columnToFilter] == itemToFilter].reset_index(drop=True)\n",
        "\n",
        "X_hun=df_hun[['Gender',\n",
        " 'RegionHungary',\n",
        " 'PunchRegionHungary',\n",
        " 'EducationHungary',\n",
        " 'Edu',\n",
        " 'PoliticsHungary','lft', 'Lftcat'\n",
        " ]]\n",
        "y_hun=df_hun['Q16']"
      ],
      "metadata": {
        "id": "bo6zRAts75Zn"
      },
      "execution_count": null,
      "outputs": []
    },
    {
      "cell_type": "code",
      "source": [
        "chi_scores_hun = chi2(X_hun,y_hun)"
      ],
      "metadata": {
        "id": "WskWDQUw8Nln"
      },
      "execution_count": null,
      "outputs": []
    },
    {
      "cell_type": "code",
      "source": [
        "p_values_hun = pd.Series(chi_scores_hun[1],index = X_hun.columns)\n",
        "p_values_hun.sort_values(ascending = False , inplace = True)"
      ],
      "metadata": {
        "id": "f9zqX49g8eOX"
      },
      "execution_count": null,
      "outputs": []
    },
    {
      "cell_type": "code",
      "source": [
        "p_values_hun.plot.bar()"
      ],
      "metadata": {
        "colab": {
          "base_uri": "https://localhost:8080/",
          "height": 584
        },
        "id": "aRSy_rWH8m8W",
        "outputId": "10bfa9aa-a011-464f-e031-d1f5809537e9"
      },
      "execution_count": null,
      "outputs": [
        {
          "output_type": "execute_result",
          "data": {
            "text/plain": [
              "<Axes: >"
            ]
          },
          "metadata": {},
          "execution_count": 41
        },
        {
          "output_type": "display_data",
          "data": {
            "text/plain": [
              "<Figure size 640x480 with 1 Axes>"
            ],
            "image/png": "[encoded data removed]"
          },
          "metadata": {}
        }
      ]
    },
    {
      "cell_type": "code",
      "source": [
        "\n",
        "model_hun = RandomForestClassifier()\n",
        "model_hun.fit(X_hun, y_hun)\n",
        "\n",
        "\n",
        "# Get feature importances\n",
        "feat_imp_hun = pd.Series(model_hun.feature_importances_, index=X_hun.columns).sort_values(ascending=False)\n",
        "\n",
        "\n",
        "print(\"Feature Importance considering buying an EV\")\n",
        "print(feat_imp_hun.head(10))"
      ],
      "metadata": {
        "colab": {
          "base_uri": "https://localhost:8080/"
        },
        "id": "pItLMpUqFXkF",
        "outputId": "2daf3ea5-1364-46ec-9835-a7a02de6cf02"
      },
      "execution_count": 57,
      "outputs": [
        {
          "output_type": "stream",
          "name": "stdout",
          "text": [
            "Feature Importance considering buying an EV\n",
            "lft                   0.298414\n",
            "PoliticsHungary       0.181610\n",
            "RegionHungary         0.176884\n",
            "EducationHungary      0.103632\n",
            "PunchRegionHungary    0.087883\n",
            "Lftcat                0.074187\n",
            "Gender                0.043606\n",
            "Edu                   0.033783\n",
            "dtype: float64\n"
          ]
        }
      ]
    },
    {
      "cell_type": "markdown",
      "source": [
        "Norway"
      ],
      "metadata": {
        "id": "b3QOz6O980FW"
      }
    },
    {
      "cell_type": "code",
      "source": [
        "columnToFilter = \"Country\"\n",
        "itemToFilter = 36\n",
        "\n",
        "columnToFilter = columnToFilter.capitalize()\n",
        "\n",
        "\n",
        "df_nor = df2[df2[columnToFilter] == itemToFilter].reset_index(drop=True)\n",
        "\n",
        "X_nor=df_nor[['Gender',\n",
        " 'RegionNorway',\n",
        " 'PunchRegionNorway',\n",
        " 'EducationNorway',\n",
        " 'Edu',\n",
        " 'PoliticsNorway','lft', 'Lftcat'\n",
        " ]]\n",
        "y_nor=df_nor['Q16']"
      ],
      "metadata": {
        "id": "mOnXX4L284bo"
      },
      "execution_count": null,
      "outputs": []
    },
    {
      "cell_type": "code",
      "source": [
        "chi_scores_nor = chi2(X_nor,y_nor)\n",
        "p_values_nor = pd.Series(chi_scores_nor[1],index = X_nor.columns)\n",
        "p_values_nor.sort_values(ascending = False , inplace = True)\n",
        "p_values_nor.plot.bar()"
      ],
      "metadata": {
        "colab": {
          "base_uri": "https://localhost:8080/",
          "height": 575
        },
        "id": "4quBtwlb9Hwv",
        "outputId": "10fea0c3-8c84-41db-9dab-8d1f28c4deea"
      },
      "execution_count": null,
      "outputs": [
        {
          "output_type": "execute_result",
          "data": {
            "text/plain": [
              "<Axes: >"
            ]
          },
          "metadata": {},
          "execution_count": 44
        },
        {
          "output_type": "display_data",
          "data": {
            "text/plain": [
              "<Figure size 640x480 with 1 Axes>"
            ],
            "image/png": "[encoded data removed]"
          },
          "metadata": {}
        }
      ]
    },
    {
      "cell_type": "code",
      "source": [
        "model_nor = RandomForestClassifier()\n",
        "model_nor.fit(X_nor, y_nor)\n",
        "\n",
        "\n",
        "# Get feature importances\n",
        "feat_imp_nor = pd.Series(model_nor.feature_importances_, index=X_nor.columns).sort_values(ascending=False)\n",
        "\n",
        "\n",
        "print(\"Feature Importance considering buying an EV\")\n",
        "print(feat_imp_nor.head(10))"
      ],
      "metadata": {
        "colab": {
          "base_uri": "https://localhost:8080/"
        },
        "id": "zcQthtBLFhnV",
        "outputId": "85efaea0-f38d-43ad-8c9e-a29db2d677c6"
      },
      "execution_count": 58,
      "outputs": [
        {
          "output_type": "stream",
          "name": "stdout",
          "text": [
            "Feature Importance considering buying an EV\n",
            "lft                  0.286725\n",
            "PoliticsNorway       0.186329\n",
            "RegionNorway         0.170866\n",
            "PunchRegionNorway    0.108965\n",
            "EducationNorway      0.092177\n",
            "Lftcat               0.068002\n",
            "Gender               0.047886\n",
            "Edu                  0.039050\n",
            "dtype: float64\n"
          ]
        }
      ]
    },
    {
      "cell_type": "markdown",
      "source": [
        "Denmark"
      ],
      "metadata": {
        "id": "wsYiPyDQ824g"
      }
    },
    {
      "cell_type": "code",
      "source": [
        "columnToFilter = \"Country\"\n",
        "itemToFilter = 37\n",
        "\n",
        "columnToFilter = columnToFilter.capitalize()\n",
        "\n",
        "\n",
        "df_den = df2[df2[columnToFilter] == itemToFilter].reset_index(drop=True)\n",
        "\n",
        "X_den=df_den[['Gender',\n",
        " 'RegionDenmark',\n",
        " 'EducationDenmark',\n",
        " 'Edu',\n",
        " 'PoliticsDenmark','lft', 'Lftcat'\n",
        " ]]\n",
        "y_den=df_den['Q16']"
      ],
      "metadata": {
        "id": "87_re4py9wbF"
      },
      "execution_count": null,
      "outputs": []
    },
    {
      "cell_type": "code",
      "source": [
        "chi_scores_den = chi2(X_den,y_den)\n",
        "p_values_den = pd.Series(chi_scores_den[1],index = X_den.columns)\n",
        "p_values_den.sort_values(ascending = False , inplace = True)\n",
        "\n",
        "p_values_den.plot.bar()"
      ],
      "metadata": {
        "colab": {
          "base_uri": "https://localhost:8080/",
          "height": 566
        },
        "id": "A1g1IgTT-BiN",
        "outputId": "44b7112d-93f4-43d6-9b69-d77e6f41dd92"
      },
      "execution_count": null,
      "outputs": [
        {
          "output_type": "execute_result",
          "data": {
            "text/plain": [
              "<Axes: >"
            ]
          },
          "metadata": {},
          "execution_count": 49
        },
        {
          "output_type": "display_data",
          "data": {
            "text/plain": [
              "<Figure size 640x480 with 1 Axes>"
            ],
            "image/png": "[encoded data removed]"
          },
          "metadata": {}
        }
      ]
    },
    {
      "cell_type": "code",
      "source": [
        "model_den = RandomForestClassifier()\n",
        "model_den.fit(X_den, y_den)\n",
        "\n",
        "\n",
        "# Get feature importances\n",
        "feat_imp_den = pd.Series(model_den.feature_importances_, index=X_den.columns).sort_values(ascending=False)\n",
        "\n",
        "\n",
        "print(\"Feature Importance considering buying an EV\")\n",
        "print(feat_imp_den.head(10))"
      ],
      "metadata": {
        "id": "l_MLYYMY9-u4",
        "colab": {
          "base_uri": "https://localhost:8080/"
        },
        "outputId": "9e36eeb9-6a39-41e6-89d4-b600e5d830f1"
      },
      "execution_count": 59,
      "outputs": [
        {
          "output_type": "stream",
          "name": "stdout",
          "text": [
            "Feature Importance considering buying an EV\n",
            "lft                 0.404649\n",
            "PoliticsDenmark     0.247173\n",
            "RegionDenmark       0.176962\n",
            "Lftcat              0.067038\n",
            "Gender              0.051400\n",
            "EducationDenmark    0.026967\n",
            "Edu                 0.025810\n",
            "dtype: float64\n"
          ]
        }
      ]
    }
  ]
}
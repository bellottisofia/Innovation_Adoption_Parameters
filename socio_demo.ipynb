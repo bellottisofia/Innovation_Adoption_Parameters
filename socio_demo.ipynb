{
  "nbformat": 4,
  "nbformat_minor": 0,
  "metadata": {
    "colab": {
      "provenance": [],
      "authorship_tag": "ABX9TyOiNMrj2l3R5Yo7vWRaNIsD",
      "include_colab_link": true
    },
    "kernelspec": {
      "name": "python3",
      "display_name": "Python 3"
    },
    "language_info": {
      "name": "python"
    }
  },
  "cells": [
    {
      "cell_type": "markdown",
      "metadata": {
        "id": "view-in-github",
        "colab_type": "text"
      },
      "source": [
        "<a href=\"https://colab.research.google.com/github/bellottisofia/Innovation_Adoption_Parameters/blob/main/socio_demo.ipynb\" target=\"_parent\"><img src=\"https://colab.research.google.com/assets/colab-badge.svg\" alt=\"Open In Colab\"/></a>"
      ]
    },
    {
      "cell_type": "code",
      "source": [
        "import numpy as np\n",
        "import matplotlib.pyplot as plt\n",
        "import pandas as pd\n",
        "from sklearn.feature_selection import chi2"
      ],
      "metadata": {
        "id": "fxmtKIOl2kaV"
      },
      "execution_count": 1,
      "outputs": []
    },
    {
      "cell_type": "code",
      "execution_count": 2,
      "metadata": {
        "id": "YGp7E4yJ2S27"
      },
      "outputs": [],
      "source": [
        "df = pd.read_csv('/content/(3)_NL_EVsurvey_data_EN_datavalues.csv')"
      ]
    },
    {
      "cell_type": "code",
      "source": [
        "# Define a mapping dictionary\n",
        "mapping = {1: 1, 2: 1, 3: 0, 99999997: 0}\n",
        "\n",
        "# Apply the mapping to the target variable\n",
        "df['nQ16'] = df['nQ16'].map(mapping)"
      ],
      "metadata": {
        "id": "Yvt9kMmhd2zs"
      },
      "execution_count": 15,
      "outputs": []
    },
    {
      "cell_type": "code",
      "source": [
        "X=df[[\n",
        " 'nAgeCat',\n",
        " 'xHighLevEdu',\n",
        " 'nIncCat',\n",
        " 'nProv',\n",
        " 'nGen',\n",
        " 'nEdu',\n",
        " 'nReg']]\n",
        "y=df['nQ16']"
      ],
      "metadata": {
        "id": "-TF74uQu3JnE"
      },
      "execution_count": 80,
      "outputs": []
    },
    {
      "cell_type": "code",
      "source": [],
      "metadata": {
        "id": "6QxRt8rgd1UK"
      },
      "execution_count": null,
      "outputs": []
    },
    {
      "cell_type": "code",
      "source": [
        "chi_scores = chi2(X,y)"
      ],
      "metadata": {
        "id": "Lvt0Zloy23J1"
      },
      "execution_count": 47,
      "outputs": []
    },
    {
      "cell_type": "code",
      "source": [
        "chi_scores"
      ],
      "metadata": {
        "colab": {
          "base_uri": "https://localhost:8080/"
        },
        "id": "4Nd2lwKi3sqc",
        "outputId": "2370e69e-b043-4b78-ac40-4a0b7e5b236b"
      },
      "execution_count": 48,
      "outputs": [
        {
          "output_type": "execute_result",
          "data": {
            "text/plain": [
              "(array([1.04623063e+01, 8.81361113e+01, 2.31649406e-03, 1.45579788e+00,\n",
              "        1.33510291e+00, 2.42229151e+01, 1.12417075e+00]),\n",
              " array([1.21835078e-03, 6.11018987e-21, 9.61612661e-01, 2.27599908e-01,\n",
              "        2.47899429e-01, 8.58052739e-07, 2.89022152e-01]))"
            ]
          },
          "metadata": {},
          "execution_count": 48
        }
      ]
    },
    {
      "cell_type": "code",
      "source": [
        "p_values = pd.Series(chi_scores[1],index = X.columns)\n",
        "p_values.sort_values(ascending = False , inplace = True)"
      ],
      "metadata": {
        "id": "nnUj5XP53x0k"
      },
      "execution_count": 49,
      "outputs": []
    },
    {
      "cell_type": "code",
      "source": [
        "p_values.plot.bar()"
      ],
      "metadata": {
        "colab": {
          "base_uri": "https://localhost:8080/",
          "height": 526
        },
        "id": "89CkKJp_31Ts",
        "outputId": "c407de86-7582-494e-e5bd-bd493646d01e"
      },
      "execution_count": 50,
      "outputs": [
        {
          "output_type": "execute_result",
          "data": {
            "text/plain": [
              "<Axes: >"
            ]
          },
          "metadata": {},
          "execution_count": 50
        },
        {
          "output_type": "display_data",
          "data": {
            "text/plain": [
              "<Figure size 640x480 with 1 Axes>"
            ],
            "image/png": "[encoded data removed]"
          },
          "metadata": {}
        }
      ]
    },
    {
      "cell_type": "code",
      "source": [
        "from sklearn.model_selection import train_test_split\n",
        "X_train, X_test, y_train, y_test = train_test_split(X, y, test_size = 0.2, random_state = 42)"
      ],
      "metadata": {
        "id": "BNI_D8P_bMPV"
      },
      "execution_count": 81,
      "outputs": []
    },
    {
      "cell_type": "code",
      "source": [
        "from sklearn.ensemble import RandomForestClassifier\n",
        "from sklearn.model_selection import train_test_split\n",
        "from sklearn.metrics import f1_score, roc_auc_score\n",
        "from imblearn.over_sampling import SMOTE\n",
        "import pandas as pd\n",
        "\n",
        "\n",
        "\n",
        "# Modello Random Forest\n",
        "clf = RandomForestClassifier(n_estimators=100, random_state=42)\n",
        "clf.fit(X_train, y_train)\n",
        "\n",
        "# Importanza delle feature\n",
        "importances = clf.feature_importances_\n",
        "importances_df = pd.DataFrame({\n",
        "    'Feature': X.columns,\n",
        "    'Importance': importances\n",
        "}).sort_values(by='Importance', ascending=False)\n",
        "\n",
        "print(importances_df)\n",
        "\n"
      ],
      "metadata": {
        "id": "X2s7uG_pD9Zf",
        "colab": {
          "base_uri": "https://localhost:8080/"
        },
        "outputId": "8d72ecfc-0a1b-45ae-f9ed-7af014e4aed6"
      },
      "execution_count": 82,
      "outputs": [
        {
          "output_type": "stream",
          "name": "stdout",
          "text": [
            "       Feature  Importance\n",
            "3        nProv    0.241501\n",
            "0      nAgeCat    0.199388\n",
            "1  xHighLevEdu    0.166272\n",
            "2      nIncCat    0.144338\n",
            "6         nReg    0.125010\n",
            "4         nGen    0.067183\n",
            "5         nEdu    0.056309\n"
          ]
        }
      ]
    },
    {
      "cell_type": "code",
      "source": [
        "from sklearn.linear_model import LogisticRegression\n",
        "from sklearn.preprocessing import StandardScaler\n",
        "from sklearn.pipeline import Pipeline\n",
        "\n",
        "\n",
        "X_resampled, y_resampled = SMOTE(random_state=42).fit_resample(X, y)\n",
        "\n",
        "# Pipeline con scaling (opzionale, ma utile)\n",
        "pipe = Pipeline([\n",
        "    ('scaler', StandardScaler()),\n",
        "    ('logreg', LogisticRegression(max_iter=1000, random_state=42))\n",
        "])\n",
        "\n",
        "pipe.fit(X_resampled, y_resampled)\n",
        "\n",
        "# Coefficienti\n",
        "coeffs = pipe.named_steps['logreg'].coef_[0]\n",
        "importance_df = pd.DataFrame({\n",
        "    'Feature': X.columns,\n",
        "    'Coefficient': coeffs,\n",
        "    'Abs_Coeff': abs(coeffs)\n",
        "}).sort_values(by='Abs_Coeff', ascending=False)\n",
        "\n",
        "print(importance_df)\n"
      ],
      "metadata": {
        "colab": {
          "base_uri": "https://localhost:8080/"
        },
        "id": "za70z_vynx9V",
        "outputId": "73c446a8-4ec7-4ad3-da74-4e3a41d06681"
      },
      "execution_count": 83,
      "outputs": [
        {
          "output_type": "stream",
          "name": "stdout",
          "text": [
            "       Feature  Coefficient  Abs_Coeff\n",
            "1  xHighLevEdu    -0.387699   0.387699\n",
            "5         nEdu    -0.177737   0.177737\n",
            "6         nReg     0.110067   0.110067\n",
            "3        nProv     0.076154   0.076154\n",
            "2      nIncCat    -0.038626   0.038626\n",
            "4         nGen    -0.025089   0.025089\n",
            "0      nAgeCat    -0.001513   0.001513\n"
          ]
        }
      ]
    },
    {
      "cell_type": "code",
      "source": [
        "from sklearn.ensemble import RandomForestClassifier\n",
        "from sklearn.model_selection import train_test_split\n",
        "from sklearn.metrics import f1_score, roc_auc_score\n",
        "from imblearn.over_sampling import SMOTE\n",
        "import pandas as pd\n",
        "\n",
        "results = []\n",
        "\n",
        "for col in X.columns:\n",
        "    X_single = X[[col]]\n",
        "\n",
        "    # SMOTE solo se necessario\n",
        "    smote = SMOTE(random_state=42)\n",
        "    X_resampled, y_resampled = smote.fit_resample(X_single, y)\n",
        "\n",
        "    # Split\n",
        "    X_train, X_test, y_train, y_test = train_test_split(\n",
        "        X_resampled, y_resampled, test_size=0.3, random_state=42, stratify=y_resampled\n",
        "    )\n",
        "\n",
        "    # Modello\n",
        "    clf = LogisticRegression(max_iter=1000, random_state=42)\n",
        "    clf.fit(X_train, y_train)\n",
        "\n",
        "    y_pred = clf.predict(X_test)\n",
        "    y_proba = clf.predict_proba(X_test)[:, 1]\n",
        "\n",
        "    f1 = f1_score(y_test, y_pred)\n",
        "    roc_auc = roc_auc_score(y_test, y_proba)\n",
        "\n",
        "    results.append({\n",
        "        'Feature': col,\n",
        "        'F1 Score': round(f1, 3),\n",
        "        'ROC AUC': round(roc_auc, 3)\n",
        "    })\n",
        "\n",
        "# Risultati ordinati\n",
        "results_df = pd.DataFrame(results).sort_values(by='F1 Score', ascending=False)\n",
        "print(results_df)\n",
        "\n"
      ],
      "metadata": {
        "colab": {
          "base_uri": "https://localhost:8080/"
        },
        "id": "YKHO3As7c97r",
        "outputId": "fd3d99e2-6de7-4800-d4c7-8e53ca4eb3a0"
      },
      "execution_count": 84,
      "outputs": [
        {
          "output_type": "stream",
          "name": "stdout",
          "text": [
            "       Feature  F1 Score  ROC AUC\n",
            "1  xHighLevEdu     0.589    0.676\n",
            "4         nGen     0.568    0.567\n",
            "0      nAgeCat     0.549    0.560\n",
            "2      nIncCat     0.534    0.496\n",
            "6         nReg     0.502    0.503\n",
            "3        nProv     0.481    0.489\n",
            "5         nEdu     0.468    0.660\n"
          ]
        }
      ]
    },
    {
      "cell_type": "code",
      "source": [
        "from sklearn.ensemble import RandomForestClassifier\n",
        "from sklearn.model_selection import train_test_split\n",
        "from sklearn.metrics import f1_score, roc_auc_score\n",
        "from imblearn.over_sampling import SMOTE\n",
        "import pandas as pd\n",
        "\n",
        "results = []\n",
        "\n",
        "for col in X.columns:\n",
        "    X_single = X[[col]]\n",
        "\n",
        "    # SMOTE solo se necessario\n",
        "    smote = SMOTE(random_state=42)\n",
        "    X_resampled, y_resampled = smote.fit_resample(X_single, y)\n",
        "\n",
        "    # Split\n",
        "    X_train, X_test, y_train, y_test = train_test_split(\n",
        "        X_resampled, y_resampled, test_size=0.3, random_state=42, stratify=y_resampled\n",
        "    )\n",
        "\n",
        "    # Modello\n",
        "    clf = RandomForestClassifier(n_estimators=100, random_state=42)\n",
        "    clf.fit(X_train, y_train)\n",
        "\n",
        "    y_pred = clf.predict(X_test)\n",
        "    y_proba = clf.predict_proba(X_test)[:, 1]\n",
        "\n",
        "    f1 = f1_score(y_test, y_pred)\n",
        "    roc_auc = roc_auc_score(y_test, y_proba)\n",
        "\n",
        "    results.append({\n",
        "        'Feature': col,\n",
        "        'F1 Score': round(f1, 3),\n",
        "        'ROC AUC': round(roc_auc, 3)\n",
        "    })\n",
        "\n",
        "# Risultati ordinati\n",
        "results_df = pd.DataFrame(results).sort_values(by='F1 Score', ascending=False)\n",
        "print(results_df)\n",
        "\n"
      ],
      "metadata": {
        "id": "nGpLDDCXpjU1",
        "outputId": "75dd4677-ed22-4b4d-9b4e-20e621881588",
        "colab": {
          "base_uri": "https://localhost:8080/"
        }
      },
      "execution_count": 85,
      "outputs": [
        {
          "output_type": "stream",
          "name": "stdout",
          "text": [
            "       Feature  F1 Score  ROC AUC\n",
            "1  xHighLevEdu     0.589    0.676\n",
            "4         nGen     0.568    0.567\n",
            "2      nIncCat     0.559    0.624\n",
            "0      nAgeCat     0.549    0.552\n",
            "3        nProv     0.470    0.491\n",
            "5         nEdu     0.468    0.660\n",
            "6         nReg     0.275    0.473\n"
          ]
        }
      ]
    },
    {
      "cell_type": "code",
      "source": [
        "df2 = pd.read_csv('/content/(6)_Transnational_EVsurvey_datavalues.csv')\n",
        "# Apply the mapping to the target variable\n",
        "df2['Q16'] = df2['Q16'].map(mapping)"
      ],
      "metadata": {
        "id": "3ebwptTn6FZ0"
      },
      "execution_count": 27,
      "outputs": []
    },
    {
      "cell_type": "markdown",
      "source": [
        "Germany"
      ],
      "metadata": {
        "id": "ZYT_q3b77z-I"
      }
    },
    {
      "cell_type": "code",
      "source": [
        "columnToFilter = \"Country\"\n",
        "itemToFilter = 6\n",
        "\n",
        "columnToFilter = columnToFilter.capitalize()\n",
        "\n",
        "\n",
        "df_ger = df2[df2[columnToFilter] == itemToFilter].reset_index(drop=True)\n",
        "\n",
        "X_Ger=df_ger[['Gender',\n",
        " 'RegionGermany',\n",
        " 'PunchRegionGermany',\n",
        " 'EducationGermany',\n",
        " 'Edu',\n",
        " 'PoliticsGermany', 'Lftcat'\n",
        " ]]\n",
        "y2=df_ger['Q16']"
      ],
      "metadata": {
        "id": "SGC3fuP06j9J"
      },
      "execution_count": 53,
      "outputs": []
    },
    {
      "cell_type": "code",
      "source": [
        "chi_scores2 = chi2(X_Ger,y2)"
      ],
      "metadata": {
        "id": "H7U85FlQ6Rpy"
      },
      "execution_count": 54,
      "outputs": []
    },
    {
      "cell_type": "code",
      "source": [
        "chi_scores2"
      ],
      "metadata": {
        "colab": {
          "base_uri": "https://localhost:8080/"
        },
        "id": "BGHJQXyq6WRj",
        "outputId": "6db4167a-b2f4-44b1-ea90-fca37881cf23"
      },
      "execution_count": 55,
      "outputs": [
        {
          "output_type": "execute_result",
          "data": {
            "text/plain": [
              "(array([6.13998589e+00, 1.52027750e-02, 2.88104134e-01, 2.11217832e+01,\n",
              "        8.01845201e+00, 3.03098845e+09, 2.38522079e+01]),\n",
              " array([1.32158368e-02, 9.01869910e-01, 5.91438015e-01, 4.31000834e-06,\n",
              "        4.63031307e-03, 0.00000000e+00, 1.04022499e-06]))"
            ]
          },
          "metadata": {},
          "execution_count": 55
        }
      ]
    },
    {
      "cell_type": "code",
      "source": [
        "p_values2 = pd.Series(chi_scores2[1],index = X_Ger.columns)\n",
        "p_values2.sort_values(ascending = False , inplace = True)"
      ],
      "metadata": {
        "id": "0QF1Oxeo6Ymx"
      },
      "execution_count": 56,
      "outputs": []
    },
    {
      "cell_type": "code",
      "source": [
        "p_values2.plot.bar()"
      ],
      "metadata": {
        "colab": {
          "base_uri": "https://localhost:8080/",
          "height": 586
        },
        "id": "YKninxDn6bpK",
        "outputId": "6c789301-dc2f-4bf9-cc63-d3050ead0901"
      },
      "execution_count": 57,
      "outputs": [
        {
          "output_type": "execute_result",
          "data": {
            "text/plain": [
              "<Axes: >"
            ]
          },
          "metadata": {},
          "execution_count": 57
        },
        {
          "output_type": "display_data",
          "data": {
            "text/plain": [
              "<Figure size 640x480 with 1 Axes>"
            ],
            "image/png": "[encoded data removed]"
          },
          "metadata": {}
        }
      ]
    },
    {
      "cell_type": "code",
      "source": [
        "results_ger = []\n",
        "\n",
        "for col in X_Ger.columns:\n",
        "    X_Ger_single = X_Ger[[col]]\n",
        "\n",
        "    # SMOTE solo se necessario\n",
        "    smote = SMOTE(random_state=42)\n",
        "    X_Ger_resampled, y_Ger_resampled = smote.fit_resample(X_Ger_single, y2)\n",
        "\n",
        "    # Split\n",
        "    X_Ger_train, X_Ger_test, y_Ger_train, y_Ger_test = train_test_split(\n",
        "        X_Ger_resampled, y_Ger_resampled, test_size=0.3, random_state=42, stratify=y_Ger_resampled\n",
        "    )\n",
        "\n",
        "    # Modello\n",
        "    clf = RandomForestClassifier(n_estimators=100, random_state=42)\n",
        "    clf.fit(X_Ger_train, y_Ger_train)\n",
        "\n",
        "    y_Ger_pred = clf.predict(X_Ger_test)\n",
        "    y_Ger_proba = clf.predict_proba(X_Ger_test)[:, 1]\n",
        "\n",
        "    f1 = f1_score(y_Ger_test, y_Ger_pred)\n",
        "    roc_auc = roc_auc_score(y_Ger_test, y_Ger_proba)\n",
        "\n",
        "    results_ger.append({\n",
        "        'Feature': col,\n",
        "        'F1 Score': round(f1, 3),\n",
        "        'ROC AUC': round(roc_auc, 3)\n",
        "    })\n",
        "\n",
        "# Risultati ordinati\n",
        "results_Ger_df = pd.DataFrame(results_ger).sort_values(by='F1 Score', ascending=False)\n",
        "print(results_Ger_df)"
      ],
      "metadata": {
        "colab": {
          "base_uri": "https://localhost:8080/"
        },
        "id": "GUrFbVATE_Tw",
        "outputId": "e046ae7a-b30f-405a-dbe9-88591f0f2038"
      },
      "execution_count": 73,
      "outputs": [
        {
          "output_type": "stream",
          "name": "stdout",
          "text": [
            "              Feature  F1 Score  ROC AUC\n",
            "5     PoliticsGermany     0.621    0.637\n",
            "0              Gender     0.585    0.595\n",
            "1       RegionGermany     0.557    0.533\n",
            "3    EducationGermany     0.524    0.617\n",
            "6              Lftcat     0.477    0.626\n",
            "4                 Edu     0.453    0.616\n",
            "2  PunchRegionGermany     0.404    0.532\n"
          ]
        }
      ]
    },
    {
      "cell_type": "markdown",
      "source": [
        "Hungary"
      ],
      "metadata": {
        "id": "Zqq3Akqp72dx"
      }
    },
    {
      "cell_type": "code",
      "source": [
        "columnToFilter = \"Country\"\n",
        "itemToFilter = 31\n",
        "\n",
        "columnToFilter = columnToFilter.capitalize()\n",
        "\n",
        "\n",
        "df_hun = df2[df2[columnToFilter] == itemToFilter].reset_index(drop=True)\n",
        "\n",
        "X_hun=df_hun[['Gender',\n",
        " 'RegionHungary',\n",
        " 'PunchRegionHungary',\n",
        " 'EducationHungary',\n",
        " 'Edu',\n",
        " 'PoliticsHungary','Lftcat'\n",
        " ]]\n",
        "y_hun=df_hun['Q16']"
      ],
      "metadata": {
        "id": "bo6zRAts75Zn"
      },
      "execution_count": 58,
      "outputs": []
    },
    {
      "cell_type": "code",
      "source": [
        "chi_scores_hun = chi2(X_hun,y_hun)"
      ],
      "metadata": {
        "id": "WskWDQUw8Nln"
      },
      "execution_count": 59,
      "outputs": []
    },
    {
      "cell_type": "code",
      "source": [
        "p_values_hun = pd.Series(chi_scores_hun[1],index = X_hun.columns)\n",
        "p_values_hun.sort_values(ascending = False , inplace = True)"
      ],
      "metadata": {
        "id": "f9zqX49g8eOX"
      },
      "execution_count": 60,
      "outputs": []
    },
    {
      "cell_type": "code",
      "source": [
        "p_values_hun.plot.bar()"
      ],
      "metadata": {
        "colab": {
          "base_uri": "https://localhost:8080/",
          "height": 582
        },
        "id": "aRSy_rWH8m8W",
        "outputId": "dc731b23-d083-4ac2-eb26-42ca437a28ba"
      },
      "execution_count": 61,
      "outputs": [
        {
          "output_type": "execute_result",
          "data": {
            "text/plain": [
              "<Axes: >"
            ]
          },
          "metadata": {},
          "execution_count": 61
        },
        {
          "output_type": "display_data",
          "data": {
            "text/plain": [
              "<Figure size 640x480 with 1 Axes>"
            ],
            "image/png": "[encoded data removed]"
          },
          "metadata": {}
        }
      ]
    },
    {
      "cell_type": "code",
      "source": [
        "\n",
        "results_hun = []\n",
        "\n",
        "for col in X_hun.columns:\n",
        "    X_hun_single = X_hun[[col]]\n",
        "\n",
        "    # SMOTE solo se necessario\n",
        "    smote = SMOTE(random_state=42)\n",
        "    X_hun_resampled, y_hun_resampled = smote.fit_resample(X_hun_single, y_hun)\n",
        "\n",
        "    # Split\n",
        "    X_hun_train, X_hun_test, y_hun_train, y_hun_test = train_test_split(\n",
        "        X_hun_resampled, y_hun_resampled, test_size=0.3, random_state=42, stratify=y_hun_resampled\n",
        "    )\n",
        "\n",
        "    # Modello\n",
        "    clf = RandomForestClassifier(n_estimators=100, random_state=42)\n",
        "    clf.fit(X_hun_train, y_hun_train)\n",
        "\n",
        "    y_hun_pred = clf.predict(X_hun_test)\n",
        "    y_hun_proba = clf.predict_proba(X_hun_test)[:, 1]\n",
        "\n",
        "    f1 = f1_score(y_hun_test, y_hun_pred)\n",
        "    roc_auc = roc_auc_score(y_hun_test, y_hun_proba)\n",
        "\n",
        "    results_hun.append({\n",
        "        'Feature': col,\n",
        "        'F1 Score': round(f1, 3),\n",
        "        'ROC AUC': round(roc_auc, 3)\n",
        "    })\n",
        "\n",
        "# Risultati ordinati\n",
        "results_hun_df = pd.DataFrame(results_hun).sort_values(by='F1 Score', ascending=False)\n",
        "print(results_hun_df)"
      ],
      "metadata": {
        "colab": {
          "base_uri": "https://localhost:8080/"
        },
        "id": "pItLMpUqFXkF",
        "outputId": "5014e78e-b3fd-4dc9-ecb4-b686e492b1cb"
      },
      "execution_count": 76,
      "outputs": [
        {
          "output_type": "stream",
          "name": "stdout",
          "text": [
            "              Feature  F1 Score  ROC AUC\n",
            "5     PoliticsHungary     0.625    0.628\n",
            "0              Gender     0.562    0.603\n",
            "2  PunchRegionHungary     0.541    0.543\n",
            "6              Lftcat     0.532    0.563\n",
            "3    EducationHungary     0.531    0.571\n",
            "1       RegionHungary     0.517    0.557\n",
            "4                 Edu     0.373    0.559\n"
          ]
        }
      ]
    },
    {
      "cell_type": "markdown",
      "source": [
        "Norway"
      ],
      "metadata": {
        "id": "b3QOz6O980FW"
      }
    },
    {
      "cell_type": "code",
      "source": [
        "columnToFilter = \"Country\"\n",
        "itemToFilter = 36\n",
        "\n",
        "columnToFilter = columnToFilter.capitalize()\n",
        "\n",
        "\n",
        "df_nor = df2[df2[columnToFilter] == itemToFilter].reset_index(drop=True)\n",
        "\n",
        "X_nor=df_nor[['Gender',\n",
        " 'RegionNorway',\n",
        " 'PunchRegionNorway',\n",
        " 'EducationNorway',\n",
        " 'Edu',\n",
        " 'PoliticsNorway', 'Lftcat'\n",
        " ]]\n",
        "y_nor=df_nor['Q16']"
      ],
      "metadata": {
        "id": "mOnXX4L284bo"
      },
      "execution_count": 63,
      "outputs": []
    },
    {
      "cell_type": "code",
      "source": [
        "chi_scores_nor = chi2(X_nor,y_nor)\n",
        "p_values_nor = pd.Series(chi_scores_nor[1],index = X_nor.columns)\n",
        "p_values_nor.sort_values(ascending = False , inplace = True)\n",
        "p_values_nor.plot.bar()"
      ],
      "metadata": {
        "colab": {
          "base_uri": "https://localhost:8080/",
          "height": 575
        },
        "id": "4quBtwlb9Hwv",
        "outputId": "b4fb1bad-fbfb-4c98-fceb-eb6f9234f38f"
      },
      "execution_count": 64,
      "outputs": [
        {
          "output_type": "execute_result",
          "data": {
            "text/plain": [
              "<Axes: >"
            ]
          },
          "metadata": {},
          "execution_count": 64
        },
        {
          "output_type": "display_data",
          "data": {
            "text/plain": [
              "<Figure size 640x480 with 1 Axes>"
            ],
            "image/png": "[encoded data removed]"
          },
          "metadata": {}
        }
      ]
    },
    {
      "cell_type": "code",
      "source": [
        "\n",
        "results_nor = []\n",
        "\n",
        "for col in X_nor.columns:\n",
        "    X_nor_single = X_nor[[col]]\n",
        "\n",
        "    # SMOTE solo se necessario\n",
        "    smote = SMOTE(random_state=42)\n",
        "    X_nor_resampled, y_nor_resampled = smote.fit_resample(X_nor_single, y_nor)\n",
        "\n",
        "    # Split\n",
        "    X_nor_train, X_nor_test, y_nor_train, y_nor_test = train_test_split(\n",
        "        X_nor_resampled, y_nor_resampled, test_size=0.3, random_state=42, stratify=y_nor_resampled\n",
        "    )\n",
        "\n",
        "    # Modello\n",
        "    clf = RandomForestClassifier(n_estimators=100, random_state=42)\n",
        "    clf.fit(X_nor_train, y_nor_train)\n",
        "\n",
        "    y_nor_pred = clf.predict(X_nor_test)\n",
        "    y_nor_proba = clf.predict_proba(X_nor_test)[:, 1]\n",
        "\n",
        "    f1 = f1_score(y_nor_test, y_nor_pred)\n",
        "    roc_auc = roc_auc_score(y_nor_test, y_nor_proba)\n",
        "\n",
        "    results_nor.append({\n",
        "        'Feature': col,\n",
        "        'F1 Score': round(f1, 3),\n",
        "        'ROC AUC': round(roc_auc, 3)\n",
        "    })\n",
        "\n",
        "# Risultati ordinati\n",
        "results_nor_df = pd.DataFrame(results_nor).sort_values(by='F1 Score', ascending=False)\n",
        "print(results_nor_df)"
      ],
      "metadata": {
        "colab": {
          "base_uri": "https://localhost:8080/"
        },
        "id": "zcQthtBLFhnV",
        "outputId": "38501689-ac48-4df9-e1df-96b481b70117"
      },
      "execution_count": 77,
      "outputs": [
        {
          "output_type": "stream",
          "name": "stdout",
          "text": [
            "             Feature  F1 Score  ROC AUC\n",
            "5     PoliticsNorway     0.628    0.628\n",
            "1       RegionNorway     0.620    0.553\n",
            "0             Gender     0.532    0.551\n",
            "3    EducationNorway     0.531    0.550\n",
            "2  PunchRegionNorway     0.525    0.538\n",
            "4                Edu     0.468    0.542\n",
            "6             Lftcat     0.457    0.600\n"
          ]
        }
      ]
    },
    {
      "cell_type": "markdown",
      "source": [
        "Denmark"
      ],
      "metadata": {
        "id": "wsYiPyDQ824g"
      }
    },
    {
      "cell_type": "code",
      "source": [
        "columnToFilter = \"Country\"\n",
        "itemToFilter = 37\n",
        "\n",
        "columnToFilter = columnToFilter.capitalize()\n",
        "\n",
        "\n",
        "df_den = df2[df2[columnToFilter] == itemToFilter].reset_index(drop=True)\n",
        "\n",
        "X_den=df_den[['Gender',\n",
        " 'RegionDenmark',\n",
        " 'EducationDenmark',\n",
        " 'Edu',\n",
        " 'PoliticsDenmark', 'Lftcat'\n",
        " ]]\n",
        "y_den=df_den['Q16']"
      ],
      "metadata": {
        "id": "87_re4py9wbF"
      },
      "execution_count": 66,
      "outputs": []
    },
    {
      "cell_type": "code",
      "source": [
        "chi_scores_den = chi2(X_den,y_den)\n",
        "p_values_den = pd.Series(chi_scores_den[1],index = X_den.columns)\n",
        "p_values_den.sort_values(ascending = False , inplace = True)\n",
        "\n",
        "p_values_den.plot.bar()"
      ],
      "metadata": {
        "colab": {
          "base_uri": "https://localhost:8080/",
          "height": 566
        },
        "id": "A1g1IgTT-BiN",
        "outputId": "e3b4c2fb-c66f-41cf-fff4-1df32a401e7c"
      },
      "execution_count": 67,
      "outputs": [
        {
          "output_type": "execute_result",
          "data": {
            "text/plain": [
              "<Axes: >"
            ]
          },
          "metadata": {},
          "execution_count": 67
        },
        {
          "output_type": "display_data",
          "data": {
            "text/plain": [
              "<Figure size 640x480 with 1 Axes>"
            ],
            "image/png": "[encoded data removed]"
          },
          "metadata": {}
        }
      ]
    },
    {
      "cell_type": "code",
      "source": [
        "\n",
        "results_den = []\n",
        "\n",
        "for col in X_den.columns:\n",
        "    X_den_single = X_den[[col]]\n",
        "\n",
        "    # SMOTE solo se necessario\n",
        "    smote = SMOTE(random_state=42)\n",
        "    X_den_resampled, y_den_resampled = smote.fit_resample(X_den_single, y_den)\n",
        "\n",
        "    # Split\n",
        "    X_den_train, X_den_test, y_den_train, y_den_test = train_test_split(\n",
        "        X_den_resampled, y_den_resampled, test_size=0.3, random_state=42, stratify=y_den_resampled\n",
        "    )\n",
        "\n",
        "    # Modello\n",
        "    clf = RandomForestClassifier(n_estimators=100, random_state=42)\n",
        "    clf.fit(X_den_train, y_den_train)\n",
        "\n",
        "    y_den_pred = clf.predict(X_den_test)\n",
        "    y_den_proba = clf.predict_proba(X_den_test)[:, 1]\n",
        "\n",
        "    f1 = f1_score(y_den_test, y_den_pred)\n",
        "    roc_auc = roc_auc_score(y_den_test, y_den_proba)\n",
        "\n",
        "    results_den.append({\n",
        "        'Feature': col,\n",
        "        'F1 Score': round(f1, 3),\n",
        "        'ROC AUC': round(roc_auc, 3)\n",
        "    })\n",
        "\n",
        "# Risultati ordinati\n",
        "results_den_df = pd.DataFrame(results_den).sort_values(by='F1 Score', ascending=False)\n",
        "print(results_den_df)"
      ],
      "metadata": {
        "id": "l_MLYYMY9-u4",
        "colab": {
          "base_uri": "https://localhost:8080/"
        },
        "outputId": "bda2203f-613b-4bb8-942a-0c14ae5f7a9d"
      },
      "execution_count": 78,
      "outputs": [
        {
          "output_type": "stream",
          "name": "stdout",
          "text": [
            "            Feature  F1 Score  ROC AUC\n",
            "3               Edu     0.651    0.592\n",
            "2  EducationDenmark     0.651    0.592\n",
            "4   PoliticsDenmark     0.603    0.582\n",
            "1     RegionDenmark     0.548    0.517\n",
            "0            Gender     0.529    0.547\n",
            "5            Lftcat     0.512    0.535\n"
          ]
        }
      ]
    }
  ]
}
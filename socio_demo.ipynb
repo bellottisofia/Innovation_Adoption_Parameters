{
  "nbformat": 4,
  "nbformat_minor": 0,
  "metadata": {
    "colab": {
      "provenance": [],
      "authorship_tag": "ABX9TyNDFOmlI8mKGvquXDHLicKd",
      "include_colab_link": true
    },
    "kernelspec": {
      "name": "python3",
      "display_name": "Python 3"
    },
    "language_info": {
      "name": "python"
    }
  },
  "cells": [
    {
      "cell_type": "markdown",
      "metadata": {
        "id": "view-in-github",
        "colab_type": "text"
      },
      "source": [
        "<a href=\"https://colab.research.google.com/github/bellottisofia/Innovation_Adoption_Parameters/blob/main/socio_demo.ipynb\" target=\"_parent\"><img src=\"https://colab.research.google.com/assets/colab-badge.svg\" alt=\"Open In Colab\"/></a>"
      ]
    },
    {
      "cell_type": "code",
      "source": [
        "import numpy as np\n",
        "import matplotlib.pyplot as plt\n",
        "import pandas as pd\n",
        "from sklearn.feature_selection import chi2"
      ],
      "metadata": {
        "id": "fxmtKIOl2kaV"
      },
      "execution_count": 1,
      "outputs": []
    },
    {
      "cell_type": "code",
      "execution_count": 2,
      "metadata": {
        "id": "YGp7E4yJ2S27"
      },
      "outputs": [],
      "source": [
        "df = pd.read_csv('/content/(3)_NL_EVsurvey_data_EN_datavalues.csv')"
      ]
    },
    {
      "cell_type": "code",
      "source": [
        "# Define a mapping dictionary\n",
        "mapping = {1: 1, 2: 1, 3: 0, 99999997: 0}\n",
        "\n",
        "# Apply the mapping to the target variable\n",
        "df['nQ16'] = df['nQ16'].map(mapping)"
      ],
      "metadata": {
        "id": "Yvt9kMmhd2zs"
      },
      "execution_count": 15,
      "outputs": []
    },
    {
      "cell_type": "code",
      "source": [
        "X=df[[\n",
        " 'nAgeCat',\n",
        " 'xHighLevEdu',\n",
        " 'xIncome',\n",
        " 'nIncCat',\n",
        " 'nProv',\n",
        " 'nGen',\n",
        " 'nAg',\n",
        " 'nEdu',\n",
        " 'nReg']]\n",
        "y=df['nQ16']"
      ],
      "metadata": {
        "id": "-TF74uQu3JnE"
      },
      "execution_count": 16,
      "outputs": []
    },
    {
      "cell_type": "code",
      "source": [],
      "metadata": {
        "id": "6QxRt8rgd1UK"
      },
      "execution_count": null,
      "outputs": []
    },
    {
      "cell_type": "code",
      "source": [
        "chi_scores = chi2(X,y)"
      ],
      "metadata": {
        "id": "Lvt0Zloy23J1"
      },
      "execution_count": 17,
      "outputs": []
    },
    {
      "cell_type": "code",
      "source": [
        "chi_scores"
      ],
      "metadata": {
        "colab": {
          "base_uri": "https://localhost:8080/"
        },
        "id": "4Nd2lwKi3sqc",
        "outputId": "4d36ac42-b3bc-43b4-d415-b27aedb286a0"
      },
      "execution_count": 18,
      "outputs": [
        {
          "output_type": "execute_result",
          "data": {
            "text/plain": [
              "(array([1.04623063e+01, 8.81361113e+01, 1.00266924e+09, 2.31649406e-03,\n",
              "        1.45579788e+00, 1.33510291e+00, 1.04623063e+01, 2.42229151e+01,\n",
              "        1.12417075e+00]),\n",
              " array([1.21835078e-03, 6.11018987e-21, 0.00000000e+00, 9.61612661e-01,\n",
              "        2.27599908e-01, 2.47899429e-01, 1.21835078e-03, 8.58052739e-07,\n",
              "        2.89022152e-01]))"
            ]
          },
          "metadata": {},
          "execution_count": 18
        }
      ]
    },
    {
      "cell_type": "code",
      "source": [
        "p_values = pd.Series(chi_scores[1],index = X.columns)\n",
        "p_values.sort_values(ascending = False , inplace = True)"
      ],
      "metadata": {
        "id": "nnUj5XP53x0k"
      },
      "execution_count": 19,
      "outputs": []
    },
    {
      "cell_type": "code",
      "source": [
        "p_values.plot.bar()"
      ],
      "metadata": {
        "colab": {
          "base_uri": "https://localhost:8080/",
          "height": 526
        },
        "id": "89CkKJp_31Ts",
        "outputId": "5195abfb-aa1b-4c24-ea42-453e71acea0e"
      },
      "execution_count": 20,
      "outputs": [
        {
          "output_type": "execute_result",
          "data": {
            "text/plain": [
              "<Axes: >"
            ]
          },
          "metadata": {},
          "execution_count": 20
        },
        {
          "output_type": "display_data",
          "data": {
            "text/plain": [
              "<Figure size 640x480 with 1 Axes>"
            ],
            "image/png": "[encoded data removed]"
          },
          "metadata": {}
        }
      ]
    },
    {
      "cell_type": "code",
      "source": [
        "from sklearn.model_selection import train_test_split\n",
        "X_train, X_test, y_train, y_test = train_test_split(X, y, test_size = 0.2, random_state = 42)"
      ],
      "metadata": {
        "id": "BNI_D8P_bMPV"
      },
      "execution_count": 21,
      "outputs": []
    },
    {
      "cell_type": "code",
      "source": [
        "from sklearn.ensemble import RandomForestClassifier\n",
        "\n",
        "model = RandomForestClassifier()\n",
        "model.fit(X, y)\n",
        "\n",
        "\n",
        "# Get feature importances\n",
        "feat_imp = pd.Series(model.feature_importances_, index=X.columns).sort_values(ascending=False)\n",
        "\n",
        "\n",
        "print(\"Feature Importance considering buying an EV\")\n",
        "print(feat_imp.head(10))\n"
      ],
      "metadata": {
        "id": "X2s7uG_pD9Zf",
        "colab": {
          "base_uri": "https://localhost:8080/"
        },
        "outputId": "da4a75b0-912e-44ed-de37-89d650161c7d"
      },
      "execution_count": 22,
      "outputs": [
        {
          "output_type": "stream",
          "name": "stdout",
          "text": [
            "Feature Importance considering buying an EV\n",
            "nProv          0.234288\n",
            "xHighLevEdu    0.151977\n",
            "xIncome        0.150094\n",
            "nReg           0.130585\n",
            "nAg            0.079396\n",
            "nAgeCat        0.078912\n",
            "nGen           0.074653\n",
            "nIncCat        0.055921\n",
            "nEdu           0.044173\n",
            "dtype: float64\n"
          ]
        }
      ]
    },
    {
      "cell_type": "code",
      "source": [
        "from sklearn.ensemble import RandomForestClassifier\n",
        "from sklearn.model_selection import train_test_split\n",
        "from sklearn.metrics import f1_score, roc_auc_score\n",
        "from imblearn.over_sampling import SMOTE\n",
        "import pandas as pd\n",
        "\n",
        "results = []\n",
        "\n",
        "for col in X.columns:\n",
        "    X_single = X[[col]]\n",
        "\n",
        "    # SMOTE solo se necessario\n",
        "    smote = SMOTE(random_state=42)\n",
        "    X_resampled, y_resampled = smote.fit_resample(X_single, y)\n",
        "\n",
        "    # Split\n",
        "    X_train, X_test, y_train, y_test = train_test_split(\n",
        "        X_resampled, y_resampled, test_size=0.3, random_state=42, stratify=y_resampled\n",
        "    )\n",
        "\n",
        "    # Modello\n",
        "    clf = RandomForestClassifier(n_estimators=100, random_state=42)\n",
        "    clf.fit(X_train, y_train)\n",
        "\n",
        "    y_pred = clf.predict(X_test)\n",
        "    y_proba = clf.predict_proba(X_test)[:, 1]\n",
        "\n",
        "    f1 = f1_score(y_test, y_pred)\n",
        "    roc_auc = roc_auc_score(y_test, y_proba)\n",
        "\n",
        "    results.append({\n",
        "        'Feature': col,\n",
        "        'F1 Score': round(f1, 3),\n",
        "        'ROC AUC': round(roc_auc, 3)\n",
        "    })\n",
        "\n",
        "# Risultati ordinati\n",
        "results_df = pd.DataFrame(results).sort_values(by='F1 Score', ascending=False)\n",
        "print(results_df)\n",
        "\n"
      ],
      "metadata": {
        "colab": {
          "base_uri": "https://localhost:8080/"
        },
        "id": "YKHO3As7c97r",
        "outputId": "7b8b6bdd-defd-4f17-a8cb-c76404a294e5"
      },
      "execution_count": 24,
      "outputs": [
        {
          "output_type": "stream",
          "name": "stdout",
          "text": [
            "       Feature  F1 Score  ROC AUC\n",
            "1  xHighLevEdu     0.589    0.676\n",
            "2      xIncome     0.577    0.642\n",
            "5         nGen     0.568    0.567\n",
            "3      nIncCat     0.559    0.624\n",
            "0      nAgeCat     0.549    0.552\n",
            "6          nAg     0.549    0.552\n",
            "4        nProv     0.470    0.491\n",
            "7         nEdu     0.468    0.660\n",
            "8         nReg     0.275    0.473\n"
          ]
        }
      ]
    },
    {
      "cell_type": "code",
      "source": [
        "df2 = pd.read_csv('/content/(6)_Transnational_EVsurvey_datavalues.csv')\n",
        "# Apply the mapping to the target variable\n",
        "df2['Q16'] = df2['Q16'].map(mapping)"
      ],
      "metadata": {
        "id": "3ebwptTn6FZ0"
      },
      "execution_count": 27,
      "outputs": []
    },
    {
      "cell_type": "markdown",
      "source": [
        "Germany"
      ],
      "metadata": {
        "id": "ZYT_q3b77z-I"
      }
    },
    {
      "cell_type": "code",
      "source": [
        "columnToFilter = \"Country\"\n",
        "itemToFilter = 6\n",
        "\n",
        "columnToFilter = columnToFilter.capitalize()\n",
        "\n",
        "\n",
        "df_ger = df2[df2[columnToFilter] == itemToFilter].reset_index(drop=True)\n",
        "\n",
        "X_Ger=df_ger[['Gender',\n",
        " 'RegionGermany',\n",
        " 'PunchRegionGermany',\n",
        " 'EducationGermany',\n",
        " 'Edu',\n",
        " 'PoliticsGermany','lft', 'Lftcat'\n",
        " ]]\n",
        "y2=df_ger['Q16']"
      ],
      "metadata": {
        "id": "SGC3fuP06j9J"
      },
      "execution_count": 28,
      "outputs": []
    },
    {
      "cell_type": "code",
      "source": [
        "chi_scores2 = chi2(X_Ger,y2)"
      ],
      "metadata": {
        "id": "H7U85FlQ6Rpy"
      },
      "execution_count": 29,
      "outputs": []
    },
    {
      "cell_type": "code",
      "source": [
        "chi_scores2"
      ],
      "metadata": {
        "colab": {
          "base_uri": "https://localhost:8080/"
        },
        "id": "BGHJQXyq6WRj",
        "outputId": "2688c4be-9f00-4674-c753-90b26c075133"
      },
      "execution_count": 30,
      "outputs": [
        {
          "output_type": "execute_result",
          "data": {
            "text/plain": [
              "(array([6.13998589e+00, 1.52027750e-02, 2.88104134e-01, 2.11217832e+01,\n",
              "        8.01845201e+00, 3.03098845e+09, 2.37850720e+02, 2.38522079e+01]),\n",
              " array([1.32158368e-02, 9.01869910e-01, 5.91438015e-01, 4.31000834e-06,\n",
              "        4.63031307e-03, 0.00000000e+00, 1.15705273e-53, 1.04022499e-06]))"
            ]
          },
          "metadata": {},
          "execution_count": 30
        }
      ]
    },
    {
      "cell_type": "code",
      "source": [
        "p_values2 = pd.Series(chi_scores2[1],index = X_Ger.columns)\n",
        "p_values2.sort_values(ascending = False , inplace = True)"
      ],
      "metadata": {
        "id": "0QF1Oxeo6Ymx"
      },
      "execution_count": 31,
      "outputs": []
    },
    {
      "cell_type": "code",
      "source": [
        "p_values2.plot.bar()"
      ],
      "metadata": {
        "colab": {
          "base_uri": "https://localhost:8080/",
          "height": 586
        },
        "id": "YKninxDn6bpK",
        "outputId": "c39bebf5-48e4-4411-e08a-ce3c03d42f83"
      },
      "execution_count": 32,
      "outputs": [
        {
          "output_type": "execute_result",
          "data": {
            "text/plain": [
              "<Axes: >"
            ]
          },
          "metadata": {},
          "execution_count": 32
        },
        {
          "output_type": "display_data",
          "data": {
            "text/plain": [
              "<Figure size 640x480 with 1 Axes>"
            ],
            "image/png": "[encoded data removed]"
          },
          "metadata": {}
        }
      ]
    },
    {
      "cell_type": "code",
      "source": [
        "\n",
        "model_ger = RandomForestClassifier()\n",
        "model_ger.fit(X_Ger, y2)\n",
        "\n",
        "\n",
        "# Get feature importances\n",
        "feat_imp_ger = pd.Series(model_ger.feature_importances_, index=X_Ger.columns).sort_values(ascending=False)\n",
        "\n",
        "\n",
        "print(\"Feature Importance considering buying an EV\")\n",
        "print(feat_imp_ger.head(10))"
      ],
      "metadata": {
        "colab": {
          "base_uri": "https://localhost:8080/"
        },
        "id": "GUrFbVATE_Tw",
        "outputId": "846b8174-a2c1-443a-f9a9-efa43f201a87"
      },
      "execution_count": 33,
      "outputs": [
        {
          "output_type": "stream",
          "name": "stdout",
          "text": [
            "Feature Importance considering buying an EV\n",
            "lft                   0.305264\n",
            "PoliticsGermany       0.219917\n",
            "RegionGermany         0.143056\n",
            "EducationGermany      0.101918\n",
            "PunchRegionGermany    0.082283\n",
            "Lftcat                0.067188\n",
            "Gender                0.044080\n",
            "Edu                   0.036295\n",
            "dtype: float64\n"
          ]
        }
      ]
    },
    {
      "cell_type": "markdown",
      "source": [
        "Hungary"
      ],
      "metadata": {
        "id": "Zqq3Akqp72dx"
      }
    },
    {
      "cell_type": "code",
      "source": [
        "columnToFilter = \"Country\"\n",
        "itemToFilter = 31\n",
        "\n",
        "columnToFilter = columnToFilter.capitalize()\n",
        "\n",
        "\n",
        "df_hun = df2[df2[columnToFilter] == itemToFilter].reset_index(drop=True)\n",
        "\n",
        "X_hun=df_hun[['Gender',\n",
        " 'RegionHungary',\n",
        " 'PunchRegionHungary',\n",
        " 'EducationHungary',\n",
        " 'Edu',\n",
        " 'PoliticsHungary','lft', 'Lftcat'\n",
        " ]]\n",
        "y_hun=df_hun['Q16']"
      ],
      "metadata": {
        "id": "bo6zRAts75Zn"
      },
      "execution_count": 34,
      "outputs": []
    },
    {
      "cell_type": "code",
      "source": [
        "chi_scores_hun = chi2(X_hun,y_hun)"
      ],
      "metadata": {
        "id": "WskWDQUw8Nln"
      },
      "execution_count": 35,
      "outputs": []
    },
    {
      "cell_type": "code",
      "source": [
        "p_values_hun = pd.Series(chi_scores_hun[1],index = X_hun.columns)\n",
        "p_values_hun.sort_values(ascending = False , inplace = True)"
      ],
      "metadata": {
        "id": "f9zqX49g8eOX"
      },
      "execution_count": 36,
      "outputs": []
    },
    {
      "cell_type": "code",
      "source": [
        "p_values_hun.plot.bar()"
      ],
      "metadata": {
        "colab": {
          "base_uri": "https://localhost:8080/",
          "height": 582
        },
        "id": "aRSy_rWH8m8W",
        "outputId": "faa5e3fd-bc23-406f-f14e-249d85702dfe"
      },
      "execution_count": 37,
      "outputs": [
        {
          "output_type": "execute_result",
          "data": {
            "text/plain": [
              "<Axes: >"
            ]
          },
          "metadata": {},
          "execution_count": 37
        },
        {
          "output_type": "display_data",
          "data": {
            "text/plain": [
              "<Figure size 640x480 with 1 Axes>"
            ],
            "image/png": "[encoded data removed]"
          },
          "metadata": {}
        }
      ]
    },
    {
      "cell_type": "code",
      "source": [
        "\n",
        "model_hun = RandomForestClassifier()\n",
        "model_hun.fit(X_hun, y_hun)\n",
        "\n",
        "\n",
        "# Get feature importances\n",
        "feat_imp_hun = pd.Series(model_hun.feature_importances_, index=X_hun.columns).sort_values(ascending=False)\n",
        "\n",
        "\n",
        "print(\"Feature Importance considering buying an EV\")\n",
        "print(feat_imp_hun.head(10))"
      ],
      "metadata": {
        "colab": {
          "base_uri": "https://localhost:8080/"
        },
        "id": "pItLMpUqFXkF",
        "outputId": "6e7913f6-1053-4210-81e5-90902a5a52b2"
      },
      "execution_count": 38,
      "outputs": [
        {
          "output_type": "stream",
          "name": "stdout",
          "text": [
            "Feature Importance considering buying an EV\n",
            "lft                   0.300790\n",
            "RegionHungary         0.180547\n",
            "PoliticsHungary       0.176915\n",
            "EducationHungary      0.098920\n",
            "PunchRegionHungary    0.091137\n",
            "Lftcat                0.075794\n",
            "Gender                0.041783\n",
            "Edu                   0.034113\n",
            "dtype: float64\n"
          ]
        }
      ]
    },
    {
      "cell_type": "markdown",
      "source": [
        "Norway"
      ],
      "metadata": {
        "id": "b3QOz6O980FW"
      }
    },
    {
      "cell_type": "code",
      "source": [
        "columnToFilter = \"Country\"\n",
        "itemToFilter = 36\n",
        "\n",
        "columnToFilter = columnToFilter.capitalize()\n",
        "\n",
        "\n",
        "df_nor = df2[df2[columnToFilter] == itemToFilter].reset_index(drop=True)\n",
        "\n",
        "X_nor=df_nor[['Gender',\n",
        " 'RegionNorway',\n",
        " 'PunchRegionNorway',\n",
        " 'EducationNorway',\n",
        " 'Edu',\n",
        " 'PoliticsNorway','lft', 'Lftcat'\n",
        " ]]\n",
        "y_nor=df_nor['Q16']"
      ],
      "metadata": {
        "id": "mOnXX4L284bo"
      },
      "execution_count": 39,
      "outputs": []
    },
    {
      "cell_type": "code",
      "source": [
        "chi_scores_nor = chi2(X_nor,y_nor)\n",
        "p_values_nor = pd.Series(chi_scores_nor[1],index = X_nor.columns)\n",
        "p_values_nor.sort_values(ascending = False , inplace = True)\n",
        "p_values_nor.plot.bar()"
      ],
      "metadata": {
        "colab": {
          "base_uri": "https://localhost:8080/",
          "height": 575
        },
        "id": "4quBtwlb9Hwv",
        "outputId": "92a8050f-149f-4ce5-c8a2-26d19c3138ec"
      },
      "execution_count": 40,
      "outputs": [
        {
          "output_type": "execute_result",
          "data": {
            "text/plain": [
              "<Axes: >"
            ]
          },
          "metadata": {},
          "execution_count": 40
        },
        {
          "output_type": "display_data",
          "data": {
            "text/plain": [
              "<Figure size 640x480 with 1 Axes>"
            ],
            "image/png": "[encoded data removed]"
          },
          "metadata": {}
        }
      ]
    },
    {
      "cell_type": "code",
      "source": [
        "model_nor = RandomForestClassifier()\n",
        "model_nor.fit(X_nor, y_nor)\n",
        "\n",
        "\n",
        "# Get feature importances\n",
        "feat_imp_nor = pd.Series(model_nor.feature_importances_, index=X_nor.columns).sort_values(ascending=False)\n",
        "\n",
        "\n",
        "print(\"Feature Importance considering buying an EV\")\n",
        "print(feat_imp_nor.head(10))"
      ],
      "metadata": {
        "colab": {
          "base_uri": "https://localhost:8080/"
        },
        "id": "zcQthtBLFhnV",
        "outputId": "ea9af558-fef3-4b9e-bf85-ba8fff0b06dd"
      },
      "execution_count": 41,
      "outputs": [
        {
          "output_type": "stream",
          "name": "stdout",
          "text": [
            "Feature Importance considering buying an EV\n",
            "lft                  0.296560\n",
            "PoliticsNorway       0.185819\n",
            "RegionNorway         0.169467\n",
            "PunchRegionNorway    0.107170\n",
            "EducationNorway      0.087696\n",
            "Lftcat               0.070492\n",
            "Gender               0.044606\n",
            "Edu                  0.038189\n",
            "dtype: float64\n"
          ]
        }
      ]
    },
    {
      "cell_type": "markdown",
      "source": [
        "Denmark"
      ],
      "metadata": {
        "id": "wsYiPyDQ824g"
      }
    },
    {
      "cell_type": "code",
      "source": [
        "columnToFilter = \"Country\"\n",
        "itemToFilter = 37\n",
        "\n",
        "columnToFilter = columnToFilter.capitalize()\n",
        "\n",
        "\n",
        "df_den = df2[df2[columnToFilter] == itemToFilter].reset_index(drop=True)\n",
        "\n",
        "X_den=df_den[['Gender',\n",
        " 'RegionDenmark',\n",
        " 'EducationDenmark',\n",
        " 'Edu',\n",
        " 'PoliticsDenmark','lft', 'Lftcat'\n",
        " ]]\n",
        "y_den=df_den['Q16']"
      ],
      "metadata": {
        "id": "87_re4py9wbF"
      },
      "execution_count": 42,
      "outputs": []
    },
    {
      "cell_type": "code",
      "source": [
        "chi_scores_den = chi2(X_den,y_den)\n",
        "p_values_den = pd.Series(chi_scores_den[1],index = X_den.columns)\n",
        "p_values_den.sort_values(ascending = False , inplace = True)\n",
        "\n",
        "p_values_den.plot.bar()"
      ],
      "metadata": {
        "colab": {
          "base_uri": "https://localhost:8080/",
          "height": 566
        },
        "id": "A1g1IgTT-BiN",
        "outputId": "a6990ed3-a59a-4601-fc25-f6f27f6d6ce8"
      },
      "execution_count": 43,
      "outputs": [
        {
          "output_type": "execute_result",
          "data": {
            "text/plain": [
              "<Axes: >"
            ]
          },
          "metadata": {},
          "execution_count": 43
        },
        {
          "output_type": "display_data",
          "data": {
            "text/plain": [
              "<Figure size 640x480 with 1 Axes>"
            ],
            "image/png": "[encoded data removed]"
          },
          "metadata": {}
        }
      ]
    },
    {
      "cell_type": "code",
      "source": [
        "model_den = RandomForestClassifier()\n",
        "model_den.fit(X_den, y_den)\n",
        "\n",
        "\n",
        "# Get feature importances\n",
        "feat_imp_den = pd.Series(model_den.feature_importances_, index=X_den.columns).sort_values(ascending=False)\n",
        "\n",
        "\n",
        "print(\"Feature Importance considering buying an EV\")\n",
        "print(feat_imp_den.head(10))"
      ],
      "metadata": {
        "id": "l_MLYYMY9-u4",
        "colab": {
          "base_uri": "https://localhost:8080/"
        },
        "outputId": "349d06e1-e301-4152-eac3-ac6ac6d68205"
      },
      "execution_count": 44,
      "outputs": [
        {
          "output_type": "stream",
          "name": "stdout",
          "text": [
            "Feature Importance considering buying an EV\n",
            "lft                 0.420974\n",
            "PoliticsDenmark     0.233508\n",
            "RegionDenmark       0.172131\n",
            "Lftcat              0.073159\n",
            "Gender              0.040519\n",
            "EducationDenmark    0.030895\n",
            "Edu                 0.028813\n",
            "dtype: float64\n"
          ]
        }
      ]
    }
  ]
}
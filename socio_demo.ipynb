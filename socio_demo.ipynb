{
  "nbformat": 4,
  "nbformat_minor": 0,
  "metadata": {
    "colab": {
      "provenance": [],
      "authorship_tag": "ABX9TyMDAV+1nJYfbvs+K9HRKyXm",
      "include_colab_link": true
    },
    "kernelspec": {
      "name": "python3",
      "display_name": "Python 3"
    },
    "language_info": {
      "name": "python"
    }
  },
  "cells": [
    {
      "cell_type": "markdown",
      "metadata": {
        "id": "view-in-github",
        "colab_type": "text"
      },
      "source": [
        "<a href=\"https://colab.research.google.com/github/bellottisofia/Innovation_Adoption_Parameters/blob/main/socio_demo.ipynb\" target=\"_parent\"><img src=\"https://colab.research.google.com/assets/colab-badge.svg\" alt=\"Open In Colab\"/></a>"
      ]
    },
    {
      "cell_type": "code",
      "source": [
        "import numpy as np\n",
        "import matplotlib.pyplot as plt\n",
        "import pandas as pd\n",
        "from sklearn.feature_selection import chi2"
      ],
      "metadata": {
        "id": "fxmtKIOl2kaV"
      },
      "execution_count": 2,
      "outputs": []
    },
    {
      "cell_type": "code",
      "execution_count": 52,
      "metadata": {
        "id": "YGp7E4yJ2S27"
      },
      "outputs": [],
      "source": [
        "df = pd.read_csv('/content/(3)_NL_EVsurvey_data_EN_datavalues.csv')"
      ]
    },
    {
      "cell_type": "code",
      "source": [
        "# Define a mapping dictionary\n",
        "mapping = {1: 1, 2: 1, 3: 0, 99999997: 0}\n",
        "\n",
        "# Apply the mapping to the target variable\n",
        "df['nQ16'] = df['nQ16'].map(mapping)"
      ],
      "metadata": {
        "id": "Yvt9kMmhd2zs"
      },
      "execution_count": 53,
      "outputs": []
    },
    {
      "cell_type": "code",
      "source": [
        "X=df[[\n",
        "'nQ24',\n",
        " 'xHighLevEdu',\n",
        " 'nProv',\n",
        " 'nGen',\n",
        " 'nEdu',\n",
        " 'nReg', 'nAgeCat','nQ1']]\n",
        "y=df['nQ16']"
      ],
      "metadata": {
        "id": "-TF74uQu3JnE"
      },
      "execution_count": 54,
      "outputs": []
    },
    {
      "cell_type": "code",
      "source": [],
      "metadata": {
        "id": "6QxRt8rgd1UK"
      },
      "execution_count": 6,
      "outputs": []
    },
    {
      "cell_type": "code",
      "source": [
        "chi_scores = chi2(X,y)"
      ],
      "metadata": {
        "id": "Lvt0Zloy23J1"
      },
      "execution_count": 55,
      "outputs": []
    },
    {
      "cell_type": "code",
      "source": [
        "chi_scores"
      ],
      "metadata": {
        "colab": {
          "base_uri": "https://localhost:8080/"
        },
        "id": "4Nd2lwKi3sqc",
        "outputId": "3a5d1c32-d322-4d5e-a1e8-098fa8b971fb"
      },
      "execution_count": 56,
      "outputs": [
        {
          "output_type": "execute_result",
          "data": {
            "text/plain": [
              "(array([3.21884682e+09, 8.81361113e+01, 1.45579788e+00, 1.33510291e+00,\n",
              "        2.42229151e+01, 1.12417075e+00, 1.04623063e+01, 9.43156307e+08]),\n",
              " array([0.00000000e+00, 6.11018987e-21, 2.27599908e-01, 2.47899429e-01,\n",
              "        8.58052739e-07, 2.89022152e-01, 1.21835078e-03, 0.00000000e+00]))"
            ]
          },
          "metadata": {},
          "execution_count": 56
        }
      ]
    },
    {
      "cell_type": "code",
      "source": [
        "p_values = pd.Series(chi_scores[1],index = X.columns)\n",
        "p_values.sort_values(ascending = False , inplace = True)"
      ],
      "metadata": {
        "id": "nnUj5XP53x0k"
      },
      "execution_count": 57,
      "outputs": []
    },
    {
      "cell_type": "code",
      "source": [
        "p_values.plot.bar()"
      ],
      "metadata": {
        "colab": {
          "base_uri": "https://localhost:8080/",
          "height": 525
        },
        "id": "89CkKJp_31Ts",
        "outputId": "07287818-da86-48bc-8440-ddfd220073e4"
      },
      "execution_count": 58,
      "outputs": [
        {
          "output_type": "execute_result",
          "data": {
            "text/plain": [
              "<Axes: >"
            ]
          },
          "metadata": {},
          "execution_count": 58
        },
        {
          "output_type": "display_data",
          "data": {
            "text/plain": [
              "<Figure size 640x480 with 1 Axes>"
            ],
            "image/png": "[encoded data removed]"
          },
          "metadata": {}
        }
      ]
    },
    {
      "cell_type": "code",
      "source": [
        "from sklearn.model_selection import train_test_split\n",
        "X_train, X_test, y_train, y_test = train_test_split(X, y, test_size = 0.2, random_state = 42)"
      ],
      "metadata": {
        "id": "BNI_D8P_bMPV"
      },
      "execution_count": 59,
      "outputs": []
    },
    {
      "cell_type": "code",
      "source": [
        "from sklearn.ensemble import RandomForestClassifier\n",
        "from sklearn.model_selection import train_test_split\n",
        "from sklearn.metrics import f1_score, roc_auc_score\n",
        "from imblearn.over_sampling import SMOTE\n",
        "import pandas as pd\n",
        "\n",
        "\n",
        "\n",
        "# Modello Random Forest\n",
        "clf = RandomForestClassifier(n_estimators=100, random_state=42)\n",
        "clf.fit(X_train, y_train)\n",
        "\n",
        "# Importanza delle feature\n",
        "importances = clf.feature_importances_\n",
        "importances_df = pd.DataFrame({\n",
        "    'Feature': X.columns,\n",
        "    'Importance': importances\n",
        "}).sort_values(by='Importance', ascending=False)\n",
        "\n",
        "print(importances_df)\n",
        "\n"
      ],
      "metadata": {
        "id": "X2s7uG_pD9Zf",
        "colab": {
          "base_uri": "https://localhost:8080/"
        },
        "outputId": "c49ba9b9-9d63-4196-9589-d532d9d1204e"
      },
      "execution_count": 60,
      "outputs": [
        {
          "output_type": "stream",
          "name": "stdout",
          "text": [
            "       Feature  Importance\n",
            "7          nQ1    0.231657\n",
            "2        nProv    0.163503\n",
            "0         nQ24    0.160168\n",
            "6      nAgeCat    0.132457\n",
            "1  xHighLevEdu    0.118616\n",
            "5         nReg    0.095627\n",
            "3         nGen    0.051418\n",
            "4         nEdu    0.046553\n"
          ]
        }
      ]
    },
    {
      "cell_type": "code",
      "source": [
        "from sklearn.ensemble import RandomForestClassifier\n",
        "from sklearn.model_selection import train_test_split\n",
        "from sklearn.metrics import f1_score, roc_auc_score\n",
        "from imblearn.over_sampling import SMOTE\n",
        "import pandas as pd\n",
        "\n",
        "results = []\n",
        "\n",
        "for col in X.columns:\n",
        "    X_single = X[[col]]\n",
        "\n",
        "    # SMOTE solo se necessario\n",
        "    smote = SMOTE(random_state=42)\n",
        "    X_resampled, y_resampled = smote.fit_resample(X_single, y)\n",
        "\n",
        "    # Split\n",
        "    X_train, X_test, y_train, y_test = train_test_split(\n",
        "        X_resampled, y_resampled, test_size=0.3, random_state=42, stratify=y_resampled\n",
        "    )\n",
        "\n",
        "    # Modello\n",
        "    clf = RandomForestClassifier(n_estimators=100, random_state=42)\n",
        "    clf.fit(X_train, y_train)\n",
        "\n",
        "    y_pred = clf.predict(X_test)\n",
        "    y_proba = clf.predict_proba(X_test)[:, 1]\n",
        "\n",
        "    f1 = f1_score(y_test, y_pred)\n",
        "    roc_auc = roc_auc_score(y_test, y_proba)\n",
        "\n",
        "    results.append({\n",
        "        'Feature': col,\n",
        "        'F1 Score': round(f1, 3),\n",
        "        'ROC AUC': round(roc_auc, 3)\n",
        "    })\n",
        "\n",
        "# Risultati ordinati\n",
        "results_df = pd.DataFrame(results).sort_values(by='F1 Score', ascending=False)\n",
        "print(results_df)\n",
        "\n"
      ],
      "metadata": {
        "colab": {
          "base_uri": "https://localhost:8080/"
        },
        "id": "nGpLDDCXpjU1",
        "outputId": "f017f787-e263-4f26-c3d4-fa4b0b9efbc7"
      },
      "execution_count": 62,
      "outputs": [
        {
          "output_type": "stream",
          "name": "stdout",
          "text": [
            "       Feature  F1 Score  ROC AUC\n",
            "7          nQ1     0.627    0.655\n",
            "1  xHighLevEdu     0.589    0.676\n",
            "0         nQ24     0.573    0.638\n",
            "3         nGen     0.568    0.567\n",
            "6      nAgeCat     0.549    0.552\n",
            "2        nProv     0.470    0.491\n",
            "4         nEdu     0.468    0.660\n",
            "5         nReg     0.275    0.473\n"
          ]
        }
      ]
    },
    {
      "cell_type": "code",
      "source": [
        "df2 = pd.read_csv('/content/(6)_Transnational_EVsurvey_datavalues.csv')\n",
        "# Apply the mapping to the target variable\n",
        "df2['Q16'] = df2['Q16'].map(mapping)"
      ],
      "metadata": {
        "id": "3ebwptTn6FZ0"
      },
      "execution_count": 16,
      "outputs": []
    },
    {
      "cell_type": "markdown",
      "source": [
        "Germany"
      ],
      "metadata": {
        "id": "ZYT_q3b77z-I"
      }
    },
    {
      "cell_type": "code",
      "source": [
        "columnToFilter = \"Country\"\n",
        "itemToFilter = 6\n",
        "\n",
        "columnToFilter = columnToFilter.capitalize()\n",
        "\n",
        "\n",
        "df_ger = df2[df2[columnToFilter] == itemToFilter].reset_index(drop=True)\n",
        "\n",
        "X_Ger=df_ger[['Gender',\n",
        " 'RegionGermany',\n",
        " 'PunchRegionGermany',\n",
        " 'EducationGermany',\n",
        " 'Edu',\n",
        " 'PoliticsGermany', 'Lftcat','Q24'\n",
        " ]]\n",
        "y2=df_ger['Q16']"
      ],
      "metadata": {
        "id": "SGC3fuP06j9J"
      },
      "execution_count": 17,
      "outputs": []
    },
    {
      "cell_type": "code",
      "source": [
        "chi_scores2 = chi2(X_Ger,y2)"
      ],
      "metadata": {
        "id": "H7U85FlQ6Rpy"
      },
      "execution_count": 18,
      "outputs": []
    },
    {
      "cell_type": "code",
      "source": [
        "chi_scores2"
      ],
      "metadata": {
        "colab": {
          "base_uri": "https://localhost:8080/"
        },
        "id": "BGHJQXyq6WRj",
        "outputId": "2209129d-4835-4feb-9da0-950688766a65"
      },
      "execution_count": 19,
      "outputs": [
        {
          "output_type": "execute_result",
          "data": {
            "text/plain": [
              "(array([6.13998589e+00, 1.52027750e-02, 2.88104134e-01, 2.11217832e+01,\n",
              "        8.01845201e+00, 3.03098845e+09, 2.38522079e+01, 3.95520119e+09]),\n",
              " array([1.32158368e-02, 9.01869910e-01, 5.91438015e-01, 4.31000834e-06,\n",
              "        4.63031307e-03, 0.00000000e+00, 1.04022499e-06, 0.00000000e+00]))"
            ]
          },
          "metadata": {},
          "execution_count": 19
        }
      ]
    },
    {
      "cell_type": "code",
      "source": [
        "p_values2 = pd.Series(chi_scores2[1],index = X_Ger.columns)\n",
        "p_values2.sort_values(ascending = False , inplace = True)"
      ],
      "metadata": {
        "id": "0QF1Oxeo6Ymx"
      },
      "execution_count": 20,
      "outputs": []
    },
    {
      "cell_type": "code",
      "source": [
        "p_values2.plot.bar()"
      ],
      "metadata": {
        "colab": {
          "base_uri": "https://localhost:8080/",
          "height": 586
        },
        "id": "YKninxDn6bpK",
        "outputId": "b2dc79b3-ca04-46ca-c329-9c82f7583652"
      },
      "execution_count": 21,
      "outputs": [
        {
          "output_type": "execute_result",
          "data": {
            "text/plain": [
              "<Axes: >"
            ]
          },
          "metadata": {},
          "execution_count": 21
        },
        {
          "output_type": "display_data",
          "data": {
            "text/plain": [
              "<Figure size 640x480 with 1 Axes>"
            ],
            "image/png": "[encoded data removed]"
          },
          "metadata": {}
        }
      ]
    },
    {
      "cell_type": "code",
      "source": [
        "results_ger = []\n",
        "\n",
        "for col in X_Ger.columns:\n",
        "    X_Ger_single = X_Ger[[col]]\n",
        "\n",
        "    # SMOTE solo se necessario\n",
        "    smote = SMOTE(random_state=42)\n",
        "    X_Ger_resampled, y_Ger_resampled = smote.fit_resample(X_Ger_single, y2)\n",
        "\n",
        "    # Split\n",
        "    X_Ger_train, X_Ger_test, y_Ger_train, y_Ger_test = train_test_split(\n",
        "        X_Ger_resampled, y_Ger_resampled, test_size=0.3, random_state=42, stratify=y_Ger_resampled\n",
        "    )\n",
        "\n",
        "    # Modello\n",
        "    clf = RandomForestClassifier(n_estimators=100, random_state=42)\n",
        "    clf.fit(X_Ger_train, y_Ger_train)\n",
        "\n",
        "    y_Ger_pred = clf.predict(X_Ger_test)\n",
        "    y_Ger_proba = clf.predict_proba(X_Ger_test)[:, 1]\n",
        "\n",
        "    f1 = f1_score(y_Ger_test, y_Ger_pred)\n",
        "    roc_auc = roc_auc_score(y_Ger_test, y_Ger_proba)\n",
        "\n",
        "    results_ger.append({\n",
        "        'Feature': col,\n",
        "        'F1 Score': round(f1, 3),\n",
        "        'ROC AUC': round(roc_auc, 3)\n",
        "    })\n",
        "\n",
        "# Risultati ordinati\n",
        "results_Ger_df = pd.DataFrame(results_ger).sort_values(by='F1 Score', ascending=False)\n",
        "print(results_Ger_df)"
      ],
      "metadata": {
        "colab": {
          "base_uri": "https://localhost:8080/"
        },
        "id": "GUrFbVATE_Tw",
        "outputId": "497714c7-b575-431c-fd81-be4b7fc24249"
      },
      "execution_count": 22,
      "outputs": [
        {
          "output_type": "stream",
          "name": "stdout",
          "text": [
            "              Feature  F1 Score  ROC AUC\n",
            "5     PoliticsGermany     0.621    0.637\n",
            "7                 Q24     0.609    0.629\n",
            "0              Gender     0.585    0.595\n",
            "1       RegionGermany     0.557    0.533\n",
            "3    EducationGermany     0.524    0.617\n",
            "6              Lftcat     0.477    0.626\n",
            "4                 Edu     0.453    0.616\n",
            "2  PunchRegionGermany     0.404    0.532\n"
          ]
        }
      ]
    },
    {
      "cell_type": "markdown",
      "source": [
        "Hungary"
      ],
      "metadata": {
        "id": "Zqq3Akqp72dx"
      }
    },
    {
      "cell_type": "code",
      "source": [
        "columnToFilter = \"Country\"\n",
        "itemToFilter = 31\n",
        "\n",
        "columnToFilter = columnToFilter.capitalize()\n",
        "\n",
        "\n",
        "df_hun = df2[df2[columnToFilter] == itemToFilter].reset_index(drop=True)\n",
        "\n",
        "X_hun=df_hun[['Gender',\n",
        " 'RegionHungary',\n",
        " 'PunchRegionHungary',\n",
        " 'EducationHungary',\n",
        " 'Edu',\n",
        " 'PoliticsHungary','Lftcat','Q24'\n",
        " ]]\n",
        "y_hun=df_hun['Q16']"
      ],
      "metadata": {
        "id": "bo6zRAts75Zn"
      },
      "execution_count": 23,
      "outputs": []
    },
    {
      "cell_type": "code",
      "source": [
        "chi_scores_hun = chi2(X_hun,y_hun)"
      ],
      "metadata": {
        "id": "WskWDQUw8Nln"
      },
      "execution_count": 24,
      "outputs": []
    },
    {
      "cell_type": "code",
      "source": [
        "p_values_hun = pd.Series(chi_scores_hun[1],index = X_hun.columns)\n",
        "p_values_hun.sort_values(ascending = False , inplace = True)"
      ],
      "metadata": {
        "id": "f9zqX49g8eOX"
      },
      "execution_count": 25,
      "outputs": []
    },
    {
      "cell_type": "code",
      "source": [
        "p_values_hun.plot.bar()"
      ],
      "metadata": {
        "colab": {
          "base_uri": "https://localhost:8080/",
          "height": 582
        },
        "id": "aRSy_rWH8m8W",
        "outputId": "3d5454e1-79fa-4f29-ecbf-559b2fc898f7"
      },
      "execution_count": 26,
      "outputs": [
        {
          "output_type": "execute_result",
          "data": {
            "text/plain": [
              "<Axes: >"
            ]
          },
          "metadata": {},
          "execution_count": 26
        },
        {
          "output_type": "display_data",
          "data": {
            "text/plain": [
              "<Figure size 640x480 with 1 Axes>"
            ],
            "image/png": "[encoded data removed]"
          },
          "metadata": {}
        }
      ]
    },
    {
      "cell_type": "code",
      "source": [
        "\n",
        "results_hun = []\n",
        "\n",
        "for col in X_hun.columns:\n",
        "    X_hun_single = X_hun[[col]]\n",
        "\n",
        "    # SMOTE solo se necessario\n",
        "    smote = SMOTE(random_state=42)\n",
        "    X_hun_resampled, y_hun_resampled = smote.fit_resample(X_hun_single, y_hun)\n",
        "\n",
        "    # Split\n",
        "    X_hun_train, X_hun_test, y_hun_train, y_hun_test = train_test_split(\n",
        "        X_hun_resampled, y_hun_resampled, test_size=0.3, random_state=42, stratify=y_hun_resampled\n",
        "    )\n",
        "\n",
        "    # Modello\n",
        "    clf = RandomForestClassifier(n_estimators=100, random_state=42)\n",
        "    clf.fit(X_hun_train, y_hun_train)\n",
        "\n",
        "    y_hun_pred = clf.predict(X_hun_test)\n",
        "    y_hun_proba = clf.predict_proba(X_hun_test)[:, 1]\n",
        "\n",
        "    f1 = f1_score(y_hun_test, y_hun_pred)\n",
        "    roc_auc = roc_auc_score(y_hun_test, y_hun_proba)\n",
        "\n",
        "    results_hun.append({\n",
        "        'Feature': col,\n",
        "        'F1 Score': round(f1, 3),\n",
        "        'ROC AUC': round(roc_auc, 3)\n",
        "    })\n",
        "\n",
        "# Risultati ordinati\n",
        "results_hun_df = pd.DataFrame(results_hun).sort_values(by='F1 Score', ascending=False)\n",
        "print(results_hun_df)"
      ],
      "metadata": {
        "colab": {
          "base_uri": "https://localhost:8080/"
        },
        "id": "pItLMpUqFXkF",
        "outputId": "67f7eda2-c538-40ad-d8d5-e7e7a17f88e9"
      },
      "execution_count": 27,
      "outputs": [
        {
          "output_type": "stream",
          "name": "stdout",
          "text": [
            "              Feature  F1 Score  ROC AUC\n",
            "5     PoliticsHungary     0.625    0.628\n",
            "0              Gender     0.562    0.603\n",
            "2  PunchRegionHungary     0.541    0.543\n",
            "6              Lftcat     0.532    0.563\n",
            "3    EducationHungary     0.531    0.571\n",
            "7                 Q24     0.525    0.571\n",
            "1       RegionHungary     0.517    0.557\n",
            "4                 Edu     0.373    0.559\n"
          ]
        }
      ]
    },
    {
      "cell_type": "markdown",
      "source": [
        "Norway"
      ],
      "metadata": {
        "id": "b3QOz6O980FW"
      }
    },
    {
      "cell_type": "code",
      "source": [
        "columnToFilter = \"Country\"\n",
        "itemToFilter = 36\n",
        "\n",
        "columnToFilter = columnToFilter.capitalize()\n",
        "\n",
        "\n",
        "df_nor = df2[df2[columnToFilter] == itemToFilter].reset_index(drop=True)\n",
        "\n",
        "X_nor=df_nor[['Gender',\n",
        " 'RegionNorway',\n",
        " 'PunchRegionNorway',\n",
        " 'EducationNorway',\n",
        " 'Edu',\n",
        " 'PoliticsNorway', 'Lftcat','Q24'\n",
        " ]]\n",
        "y_nor=df_nor['Q16']"
      ],
      "metadata": {
        "id": "mOnXX4L284bo"
      },
      "execution_count": 28,
      "outputs": []
    },
    {
      "cell_type": "code",
      "source": [
        "chi_scores_nor = chi2(X_nor,y_nor)\n",
        "p_values_nor = pd.Series(chi_scores_nor[1],index = X_nor.columns)\n",
        "p_values_nor.sort_values(ascending = False , inplace = True)\n",
        "p_values_nor.plot.bar()"
      ],
      "metadata": {
        "colab": {
          "base_uri": "https://localhost:8080/",
          "height": 575
        },
        "id": "4quBtwlb9Hwv",
        "outputId": "3bdda3ec-3e6d-468c-ea23-00cb80251192"
      },
      "execution_count": 29,
      "outputs": [
        {
          "output_type": "execute_result",
          "data": {
            "text/plain": [
              "<Axes: >"
            ]
          },
          "metadata": {},
          "execution_count": 29
        },
        {
          "output_type": "display_data",
          "data": {
            "text/plain": [
              "<Figure size 640x480 with 1 Axes>"
            ],
            "image/png": "[encoded data removed]"
          },
          "metadata": {}
        }
      ]
    },
    {
      "cell_type": "code",
      "source": [
        "\n",
        "results_nor = []\n",
        "\n",
        "for col in X_nor.columns:\n",
        "    X_nor_single = X_nor[[col]]\n",
        "\n",
        "    # SMOTE solo se necessario\n",
        "    smote = SMOTE(random_state=42)\n",
        "    X_nor_resampled, y_nor_resampled = smote.fit_resample(X_nor_single, y_nor)\n",
        "\n",
        "    # Split\n",
        "    X_nor_train, X_nor_test, y_nor_train, y_nor_test = train_test_split(\n",
        "        X_nor_resampled, y_nor_resampled, test_size=0.3, random_state=42, stratify=y_nor_resampled\n",
        "    )\n",
        "\n",
        "    # Modello\n",
        "    clf = RandomForestClassifier(n_estimators=100, random_state=42)\n",
        "    clf.fit(X_nor_train, y_nor_train)\n",
        "\n",
        "    y_nor_pred = clf.predict(X_nor_test)\n",
        "    y_nor_proba = clf.predict_proba(X_nor_test)[:, 1]\n",
        "\n",
        "    f1 = f1_score(y_nor_test, y_nor_pred)\n",
        "    roc_auc = roc_auc_score(y_nor_test, y_nor_proba)\n",
        "\n",
        "    results_nor.append({\n",
        "        'Feature': col,\n",
        "        'F1 Score': round(f1, 3),\n",
        "        'ROC AUC': round(roc_auc, 3)\n",
        "    })\n",
        "\n",
        "# Risultati ordinati\n",
        "results_nor_df = pd.DataFrame(results_nor).sort_values(by='F1 Score', ascending=False)\n",
        "print(results_nor_df)"
      ],
      "metadata": {
        "colab": {
          "base_uri": "https://localhost:8080/"
        },
        "id": "zcQthtBLFhnV",
        "outputId": "db08d418-2f04-488b-ca89-3bf4cf1ef9c0"
      },
      "execution_count": 30,
      "outputs": [
        {
          "output_type": "stream",
          "name": "stdout",
          "text": [
            "             Feature  F1 Score  ROC AUC\n",
            "5     PoliticsNorway     0.628    0.628\n",
            "1       RegionNorway     0.620    0.553\n",
            "0             Gender     0.532    0.551\n",
            "3    EducationNorway     0.531    0.550\n",
            "2  PunchRegionNorway     0.525    0.538\n",
            "7                Q24     0.520    0.623\n",
            "4                Edu     0.468    0.542\n",
            "6             Lftcat     0.457    0.600\n"
          ]
        }
      ]
    },
    {
      "cell_type": "markdown",
      "source": [
        "Denmark"
      ],
      "metadata": {
        "id": "wsYiPyDQ824g"
      }
    },
    {
      "cell_type": "code",
      "source": [
        "columnToFilter = \"Country\"\n",
        "itemToFilter = 37\n",
        "\n",
        "columnToFilter = columnToFilter.capitalize()\n",
        "\n",
        "\n",
        "df_den = df2[df2[columnToFilter] == itemToFilter].reset_index(drop=True)\n",
        "\n",
        "X_den=df_den[['Gender',\n",
        " 'RegionDenmark',\n",
        " 'EducationDenmark',\n",
        " 'Edu',\n",
        " 'PoliticsDenmark', 'Lftcat','Q24'\n",
        " ]]\n",
        "y_den=df_den['Q16']"
      ],
      "metadata": {
        "id": "87_re4py9wbF"
      },
      "execution_count": 31,
      "outputs": []
    },
    {
      "cell_type": "code",
      "source": [
        "chi_scores_den = chi2(X_den,y_den)\n",
        "p_values_den = pd.Series(chi_scores_den[1],index = X_den.columns)\n",
        "p_values_den.sort_values(ascending = False , inplace = True)\n",
        "\n",
        "p_values_den.plot.bar()"
      ],
      "metadata": {
        "colab": {
          "base_uri": "https://localhost:8080/",
          "height": 566
        },
        "id": "A1g1IgTT-BiN",
        "outputId": "f50e0d0a-0d2a-45b8-fd04-7e47cf0bac9f"
      },
      "execution_count": 32,
      "outputs": [
        {
          "output_type": "execute_result",
          "data": {
            "text/plain": [
              "<Axes: >"
            ]
          },
          "metadata": {},
          "execution_count": 32
        },
        {
          "output_type": "display_data",
          "data": {
            "text/plain": [
              "<Figure size 640x480 with 1 Axes>"
            ],
            "image/png": "[encoded data removed]"
          },
          "metadata": {}
        }
      ]
    },
    {
      "cell_type": "code",
      "source": [
        "\n",
        "results_den = []\n",
        "\n",
        "for col in X_den.columns:\n",
        "    X_den_single = X_den[[col]]\n",
        "\n",
        "    # SMOTE solo se necessario\n",
        "    smote = SMOTE(random_state=42)\n",
        "    X_den_resampled, y_den_resampled = smote.fit_resample(X_den_single, y_den)\n",
        "\n",
        "    # Split\n",
        "    X_den_train, X_den_test, y_den_train, y_den_test = train_test_split(\n",
        "        X_den_resampled, y_den_resampled, test_size=0.3, random_state=42, stratify=y_den_resampled\n",
        "    )\n",
        "\n",
        "    # Modello\n",
        "    clf = RandomForestClassifier(n_estimators=100, random_state=42)\n",
        "    clf.fit(X_den_train, y_den_train)\n",
        "\n",
        "    y_den_pred = clf.predict(X_den_test)\n",
        "    y_den_proba = clf.predict_proba(X_den_test)[:, 1]\n",
        "\n",
        "    f1 = f1_score(y_den_test, y_den_pred)\n",
        "    roc_auc = roc_auc_score(y_den_test, y_den_proba)\n",
        "\n",
        "    results_den.append({\n",
        "        'Feature': col,\n",
        "        'F1 Score': round(f1, 3),\n",
        "        'ROC AUC': round(roc_auc, 3)\n",
        "    })\n",
        "\n",
        "# Risultati ordinati\n",
        "results_den_df = pd.DataFrame(results_den).sort_values(by='F1 Score', ascending=False)\n",
        "print(results_den_df)"
      ],
      "metadata": {
        "id": "l_MLYYMY9-u4",
        "colab": {
          "base_uri": "https://localhost:8080/"
        },
        "outputId": "5f13ddda-af43-42df-8d6c-376e2f6dc4d2"
      },
      "execution_count": 33,
      "outputs": [
        {
          "output_type": "stream",
          "name": "stdout",
          "text": [
            "            Feature  F1 Score  ROC AUC\n",
            "2  EducationDenmark     0.651    0.592\n",
            "3               Edu     0.651    0.592\n",
            "4   PoliticsDenmark     0.603    0.582\n",
            "1     RegionDenmark     0.548    0.517\n",
            "0            Gender     0.529    0.547\n",
            "5            Lftcat     0.512    0.535\n",
            "6               Q24     0.451    0.596\n"
          ]
        }
      ]
    }
  ]
}
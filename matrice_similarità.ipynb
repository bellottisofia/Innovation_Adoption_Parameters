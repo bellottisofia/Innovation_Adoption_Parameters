{
  "nbformat": 4,
  "nbformat_minor": 0,
  "metadata": {
    "colab": {
      "provenance": [],
      "authorship_tag": "ABX9TyNGISKvgZcoNpwoGPJYjcdY",
      "include_colab_link": true
    },
    "kernelspec": {
      "name": "python3",
      "display_name": "Python 3"
    },
    "language_info": {
      "name": "python"
    }
  },
  "cells": [
    {
      "cell_type": "markdown",
      "metadata": {
        "id": "view-in-github",
        "colab_type": "text"
      },
      "source": [
        "<a href=\"https://colab.research.google.com/github/bellottisofia/Innovation_Adoption_Parameters/blob/main/matrice_similarit%C3%A0.ipynb\" target=\"_parent\"><img src=\"https://colab.research.google.com/assets/colab-badge.svg\" alt=\"Open In Colab\"/></a>"
      ]
    },
    {
      "cell_type": "code",
      "execution_count": 2,
      "metadata": {
        "id": "br1C668yh2Ou"
      },
      "outputs": [],
      "source": [
        "import numpy as np\n",
        "import matplotlib.pyplot as plt\n",
        "import pandas as pd\n",
        "from scipy.spatial.distance import pdist, squareform\n",
        "from sklearn.impute import SimpleImputer"
      ]
    },
    {
      "cell_type": "code",
      "source": [
        "opinion_germany = pd.read_csv('/content/matrix_Germany (4).csv')"
      ],
      "metadata": {
        "id": "b_2NUEs_kAhz"
      },
      "execution_count": 3,
      "outputs": []
    },
    {
      "cell_type": "code",
      "source": [
        "opinion_germany.head()"
      ],
      "metadata": {
        "colab": {
          "base_uri": "https://localhost:8080/",
          "height": 377
        },
        "id": "QJkh_eNelH9N",
        "outputId": "7e89a349-8722-4531-8e93-e7bf79e53a66"
      },
      "execution_count": 4,
      "outputs": [
        {
          "output_type": "execute_result",
          "data": {
            "text/plain": [
              "                 popolazione     Q11_1     Q11_2     Q11_3     Q11_4  \\\n",
              "0  18 t/m 24_Less than 10 km  0.520000  0.400000  0.160000  0.560000   \n",
              "1         18 t/m 24_10-19 km  0.354839  0.225806  0.193548  0.548387   \n",
              "2         18 t/m 24_20-29 km  0.370370  0.185185  0.148148  0.444444   \n",
              "3         18 t/m 24_30-49 km  0.390244  0.219512  0.292683  0.463415   \n",
              "4     18 t/m 24_more than 50  0.315789  0.263158  0.421053  0.526316   \n",
              "\n",
              "      Q11_5     Q11_6     Q11_7     Q11_8     Q11_9  ...    Q18_16    Q18_17  \\\n",
              "0  0.280000  0.000000  0.280000  0.400000  0.040000  ...  0.370000  0.470000   \n",
              "1  0.322581  0.064516  0.322581  0.258065  0.129032  ...  0.387097  0.572581   \n",
              "2  0.148148  0.037037  0.259259  0.333333  0.185185  ...  0.398148  0.425926   \n",
              "3  0.219512  0.170732  0.292683  0.365854  0.121951  ...  0.347561  0.439024   \n",
              "4  0.368421  0.210526  0.684211  0.315789  0.105263  ...  0.447368  0.368421   \n",
              "\n",
              "     Q18_18    Q18_19    Q18_20    Q18_21    Q18_22    Q18_23       Q20  \\\n",
              "0  0.320000  0.510000  0.440000  0.440000  0.450000  0.490000  0.490000   \n",
              "1  0.314516  0.483871  0.314516  0.435484  0.395161  0.306452  0.379032   \n",
              "2  0.388889  0.453704  0.416667  0.379630  0.425926  0.361111  0.351852   \n",
              "3  0.298780  0.414634  0.378049  0.439024  0.371951  0.414634  0.371951   \n",
              "4  0.342105  0.368421  0.407895  0.355263  0.421053  0.421053  0.394737   \n",
              "\n",
              "        Q21  \n",
              "0  0.400000  \n",
              "1  0.435484  \n",
              "2  0.425926  \n",
              "3  0.402439  \n",
              "4  0.447368  \n",
              "\n",
              "[5 rows x 69 columns]"
            ],
            "text/html": [
              "\n",
              "  <div id=\"df-dbb33b97-7bf5-4607-b922-a97318fe569b\" class=\"colab-df-container\">\n",
              "    <div>\n",
              "<style scoped>\n",
              "    .dataframe tbody tr th:only-of-type {\n",
              "        vertical-align: middle;\n",
              "    }\n",
              "\n",
              "    .dataframe tbody tr th {\n",
              "        vertical-align: top;\n",
              "    }\n",
              "\n",
              "    .dataframe thead th {\n",
              "        text-align: right;\n",
              "    }\n",
              "</style>\n",
              "<table border=\"1\" class=\"dataframe\">\n",
              "  <thead>\n",
              "    <tr style=\"text-align: right;\">\n",
              "      <th></th>\n",
              "      <th>popolazione</th>\n",
              "      <th>Q11_1</th>\n",
              "      <th>Q11_2</th>\n",
              "      <th>Q11_3</th>\n",
              "      <th>Q11_4</th>\n",
              "      <th>Q11_5</th>\n",
              "      <th>Q11_6</th>\n",
              "      <th>Q11_7</th>\n",
              "      <th>Q11_8</th>\n",
              "      <th>Q11_9</th>\n",
              "      <th>...</th>\n",
              "      <th>Q18_16</th>\n",
              "      <th>Q18_17</th>\n",
              "      <th>Q18_18</th>\n",
              "      <th>Q18_19</th>\n",
              "      <th>Q18_20</th>\n",
              "      <th>Q18_21</th>\n",
              "      <th>Q18_22</th>\n",
              "      <th>Q18_23</th>\n",
              "      <th>Q20</th>\n",
              "      <th>Q21</th>\n",
              "    </tr>\n",
              "  </thead>\n",
              "  <tbody>\n",
              "    <tr>\n",
              "      <th>0</th>\n",
              "      <td>18 t/m 24_Less than 10 km</td>\n",
              "      <td>0.520000</td>\n",
              "      <td>0.400000</td>\n",
              "      <td>0.160000</td>\n",
              "      <td>0.560000</td>\n",
              "      <td>0.280000</td>\n",
              "      <td>0.000000</td>\n",
              "      <td>0.280000</td>\n",
              "      <td>0.400000</td>\n",
              "      <td>0.040000</td>\n",
              "      <td>...</td>\n",
              "      <td>0.370000</td>\n",
              "      <td>0.470000</td>\n",
              "      <td>0.320000</td>\n",
              "      <td>0.510000</td>\n",
              "      <td>0.440000</td>\n",
              "      <td>0.440000</td>\n",
              "      <td>0.450000</td>\n",
              "      <td>0.490000</td>\n",
              "      <td>0.490000</td>\n",
              "      <td>0.400000</td>\n",
              "    </tr>\n",
              "    <tr>\n",
              "      <th>1</th>\n",
              "      <td>18 t/m 24_10-19 km</td>\n",
              "      <td>0.354839</td>\n",
              "      <td>0.225806</td>\n",
              "      <td>0.193548</td>\n",
              "      <td>0.548387</td>\n",
              "      <td>0.322581</td>\n",
              "      <td>0.064516</td>\n",
              "      <td>0.322581</td>\n",
              "      <td>0.258065</td>\n",
              "      <td>0.129032</td>\n",
              "      <td>...</td>\n",
              "      <td>0.387097</td>\n",
              "      <td>0.572581</td>\n",
              "      <td>0.314516</td>\n",
              "      <td>0.483871</td>\n",
              "      <td>0.314516</td>\n",
              "      <td>0.435484</td>\n",
              "      <td>0.395161</td>\n",
              "      <td>0.306452</td>\n",
              "      <td>0.379032</td>\n",
              "      <td>0.435484</td>\n",
              "    </tr>\n",
              "    <tr>\n",
              "      <th>2</th>\n",
              "      <td>18 t/m 24_20-29 km</td>\n",
              "      <td>0.370370</td>\n",
              "      <td>0.185185</td>\n",
              "      <td>0.148148</td>\n",
              "      <td>0.444444</td>\n",
              "      <td>0.148148</td>\n",
              "      <td>0.037037</td>\n",
              "      <td>0.259259</td>\n",
              "      <td>0.333333</td>\n",
              "      <td>0.185185</td>\n",
              "      <td>...</td>\n",
              "      <td>0.398148</td>\n",
              "      <td>0.425926</td>\n",
              "      <td>0.388889</td>\n",
              "      <td>0.453704</td>\n",
              "      <td>0.416667</td>\n",
              "      <td>0.379630</td>\n",
              "      <td>0.425926</td>\n",
              "      <td>0.361111</td>\n",
              "      <td>0.351852</td>\n",
              "      <td>0.425926</td>\n",
              "    </tr>\n",
              "    <tr>\n",
              "      <th>3</th>\n",
              "      <td>18 t/m 24_30-49 km</td>\n",
              "      <td>0.390244</td>\n",
              "      <td>0.219512</td>\n",
              "      <td>0.292683</td>\n",
              "      <td>0.463415</td>\n",
              "      <td>0.219512</td>\n",
              "      <td>0.170732</td>\n",
              "      <td>0.292683</td>\n",
              "      <td>0.365854</td>\n",
              "      <td>0.121951</td>\n",
              "      <td>...</td>\n",
              "      <td>0.347561</td>\n",
              "      <td>0.439024</td>\n",
              "      <td>0.298780</td>\n",
              "      <td>0.414634</td>\n",
              "      <td>0.378049</td>\n",
              "      <td>0.439024</td>\n",
              "      <td>0.371951</td>\n",
              "      <td>0.414634</td>\n",
              "      <td>0.371951</td>\n",
              "      <td>0.402439</td>\n",
              "    </tr>\n",
              "    <tr>\n",
              "      <th>4</th>\n",
              "      <td>18 t/m 24_more than 50</td>\n",
              "      <td>0.315789</td>\n",
              "      <td>0.263158</td>\n",
              "      <td>0.421053</td>\n",
              "      <td>0.526316</td>\n",
              "      <td>0.368421</td>\n",
              "      <td>0.210526</td>\n",
              "      <td>0.684211</td>\n",
              "      <td>0.315789</td>\n",
              "      <td>0.105263</td>\n",
              "      <td>...</td>\n",
              "      <td>0.447368</td>\n",
              "      <td>0.368421</td>\n",
              "      <td>0.342105</td>\n",
              "      <td>0.368421</td>\n",
              "      <td>0.407895</td>\n",
              "      <td>0.355263</td>\n",
              "      <td>0.421053</td>\n",
              "      <td>0.421053</td>\n",
              "      <td>0.394737</td>\n",
              "      <td>0.447368</td>\n",
              "    </tr>\n",
              "  </tbody>\n",
              "</table>\n",
              "<p>5 rows × 69 columns</p>\n",
              "</div>\n",
              "    <div class=\"colab-df-buttons\">\n",
              "\n",
              "  <div class=\"colab-df-container\">\n",
              "    <button class=\"colab-df-convert\" onclick=\"convertToInteractive('df-dbb33b97-7bf5-4607-b922-a97318fe569b')\"\n",
              "            title=\"Convert this dataframe to an interactive table.\"\n",
              "            style=\"display:none;\">\n",
              "\n",
              "  <svg xmlns=\"http://www.w3.org/2000/svg\" height=\"24px\" viewBox=\"0 -960 960 960\">\n",
              "    <path d=\"M120-120v-720h720v720H120Zm60-500h600v-160H180v160Zm220 220h160v-160H400v160Zm0 220h160v-160H400v160ZM180-400h160v-160H180v160Zm440 0h160v-160H620v160ZM180-180h160v-160H180v160Zm440 0h160v-160H620v160Z\"/>\n",
              "  </svg>\n",
              "    </button>\n",
              "\n",
              "  <style>\n",
              "    .colab-df-container {\n",
              "      display:flex;\n",
              "      gap: 12px;\n",
              "    }\n",
              "\n",
              "    .colab-df-convert {\n",
              "      background-color: #E8F0FE;\n",
              "      border: none;\n",
              "      border-radius: 50%;\n",
              "      cursor: pointer;\n",
              "      display: none;\n",
              "      fill: #1967D2;\n",
              "      height: 32px;\n",
              "      padding: 0 0 0 0;\n",
              "      width: 32px;\n",
              "    }\n",
              "\n",
              "    .colab-df-convert:hover {\n",
              "      background-color: #E2EBFA;\n",
              "      box-shadow: 0px 1px 2px rgba(60, 64, 67, 0.3), 0px 1px 3px 1px rgba(60, 64, 67, 0.15);\n",
              "      fill: #174EA6;\n",
              "    }\n",
              "\n",
              "    .colab-df-buttons div {\n",
              "      margin-bottom: 4px;\n",
              "    }\n",
              "\n",
              "    [theme=dark] .colab-df-convert {\n",
              "      background-color: #3B4455;\n",
              "      fill: #D2E3FC;\n",
              "    }\n",
              "\n",
              "    [theme=dark] .colab-df-convert:hover {\n",
              "      background-color: #434B5C;\n",
              "      box-shadow: 0px 1px 3px 1px rgba(0, 0, 0, 0.15);\n",
              "      filter: drop-shadow(0px 1px 2px rgba(0, 0, 0, 0.3));\n",
              "      fill: #FFFFFF;\n",
              "    }\n",
              "  </style>\n",
              "\n",
              "    <script>\n",
              "      const buttonEl =\n",
              "        document.querySelector('#df-dbb33b97-7bf5-4607-b922-a97318fe569b button.colab-df-convert');\n",
              "      buttonEl.style.display =\n",
              "        google.colab.kernel.accessAllowed ? 'block' : 'none';\n",
              "\n",
              "      async function convertToInteractive(key) {\n",
              "        const element = document.querySelector('#df-dbb33b97-7bf5-4607-b922-a97318fe569b');\n",
              "        const dataTable =\n",
              "          await google.colab.kernel.invokeFunction('convertToInteractive',\n",
              "                                                    [key], {});\n",
              "        if (!dataTable) return;\n",
              "\n",
              "        const docLinkHtml = 'Like what you see? Visit the ' +\n",
              "          '<a target=\"_blank\" href=https://colab.research.google.com/notebooks/data_table.ipynb>data table notebook</a>'\n",
              "          + ' to learn more about interactive tables.';\n",
              "        element.innerHTML = '';\n",
              "        dataTable['output_type'] = 'display_data';\n",
              "        await google.colab.output.renderOutput(dataTable, element);\n",
              "        const docLink = document.createElement('div');\n",
              "        docLink.innerHTML = docLinkHtml;\n",
              "        element.appendChild(docLink);\n",
              "      }\n",
              "    </script>\n",
              "  </div>\n",
              "\n",
              "\n",
              "    <div id=\"df-e4c9b4b8-06d6-458d-b56d-3053a3a34ede\">\n",
              "      <button class=\"colab-df-quickchart\" onclick=\"quickchart('df-e4c9b4b8-06d6-458d-b56d-3053a3a34ede')\"\n",
              "                title=\"Suggest charts\"\n",
              "                style=\"display:none;\">\n",
              "\n",
              "<svg xmlns=\"http://www.w3.org/2000/svg\" height=\"24px\"viewBox=\"0 0 24 24\"\n",
              "     width=\"24px\">\n",
              "    <g>\n",
              "        <path d=\"M19 3H5c-1.1 0-2 .9-2 2v14c0 1.1.9 2 2 2h14c1.1 0 2-.9 2-2V5c0-1.1-.9-2-2-2zM9 17H7v-7h2v7zm4 0h-2V7h2v10zm4 0h-2v-4h2v4z\"/>\n",
              "    </g>\n",
              "</svg>\n",
              "      </button>\n",
              "\n",
              "<style>\n",
              "  .colab-df-quickchart {\n",
              "      --bg-color: #E8F0FE;\n",
              "      --fill-color: #1967D2;\n",
              "      --hover-bg-color: #E2EBFA;\n",
              "      --hover-fill-color: #174EA6;\n",
              "      --disabled-fill-color: #AAA;\n",
              "      --disabled-bg-color: #DDD;\n",
              "  }\n",
              "\n",
              "  [theme=dark] .colab-df-quickchart {\n",
              "      --bg-color: #3B4455;\n",
              "      --fill-color: #D2E3FC;\n",
              "      --hover-bg-color: #434B5C;\n",
              "      --hover-fill-color: #FFFFFF;\n",
              "      --disabled-bg-color: #3B4455;\n",
              "      --disabled-fill-color: #666;\n",
              "  }\n",
              "\n",
              "  .colab-df-quickchart {\n",
              "    background-color: var(--bg-color);\n",
              "    border: none;\n",
              "    border-radius: 50%;\n",
              "    cursor: pointer;\n",
              "    display: none;\n",
              "    fill: var(--fill-color);\n",
              "    height: 32px;\n",
              "    padding: 0;\n",
              "    width: 32px;\n",
              "  }\n",
              "\n",
              "  .colab-df-quickchart:hover {\n",
              "    background-color: var(--hover-bg-color);\n",
              "    box-shadow: 0 1px 2px rgba(60, 64, 67, 0.3), 0 1px 3px 1px rgba(60, 64, 67, 0.15);\n",
              "    fill: var(--button-hover-fill-color);\n",
              "  }\n",
              "\n",
              "  .colab-df-quickchart-complete:disabled,\n",
              "  .colab-df-quickchart-complete:disabled:hover {\n",
              "    background-color: var(--disabled-bg-color);\n",
              "    fill: var(--disabled-fill-color);\n",
              "    box-shadow: none;\n",
              "  }\n",
              "\n",
              "  .colab-df-spinner {\n",
              "    border: 2px solid var(--fill-color);\n",
              "    border-color: transparent;\n",
              "    border-bottom-color: var(--fill-color);\n",
              "    animation:\n",
              "      spin 1s steps(1) infinite;\n",
              "  }\n",
              "\n",
              "  @keyframes spin {\n",
              "    0% {\n",
              "      border-color: transparent;\n",
              "      border-bottom-color: var(--fill-color);\n",
              "      border-left-color: var(--fill-color);\n",
              "    }\n",
              "    20% {\n",
              "      border-color: transparent;\n",
              "      border-left-color: var(--fill-color);\n",
              "      border-top-color: var(--fill-color);\n",
              "    }\n",
              "    30% {\n",
              "      border-color: transparent;\n",
              "      border-left-color: var(--fill-color);\n",
              "      border-top-color: var(--fill-color);\n",
              "      border-right-color: var(--fill-color);\n",
              "    }\n",
              "    40% {\n",
              "      border-color: transparent;\n",
              "      border-right-color: var(--fill-color);\n",
              "      border-top-color: var(--fill-color);\n",
              "    }\n",
              "    60% {\n",
              "      border-color: transparent;\n",
              "      border-right-color: var(--fill-color);\n",
              "    }\n",
              "    80% {\n",
              "      border-color: transparent;\n",
              "      border-right-color: var(--fill-color);\n",
              "      border-bottom-color: var(--fill-color);\n",
              "    }\n",
              "    90% {\n",
              "      border-color: transparent;\n",
              "      border-bottom-color: var(--fill-color);\n",
              "    }\n",
              "  }\n",
              "</style>\n",
              "\n",
              "      <script>\n",
              "        async function quickchart(key) {\n",
              "          const quickchartButtonEl =\n",
              "            document.querySelector('#' + key + ' button');\n",
              "          quickchartButtonEl.disabled = true;  // To prevent multiple clicks.\n",
              "          quickchartButtonEl.classList.add('colab-df-spinner');\n",
              "          try {\n",
              "            const charts = await google.colab.kernel.invokeFunction(\n",
              "                'suggestCharts', [key], {});\n",
              "          } catch (error) {\n",
              "            console.error('Error during call to suggestCharts:', error);\n",
              "          }\n",
              "          quickchartButtonEl.classList.remove('colab-df-spinner');\n",
              "          quickchartButtonEl.classList.add('colab-df-quickchart-complete');\n",
              "        }\n",
              "        (() => {\n",
              "          let quickchartButtonEl =\n",
              "            document.querySelector('#df-e4c9b4b8-06d6-458d-b56d-3053a3a34ede button');\n",
              "          quickchartButtonEl.style.display =\n",
              "            google.colab.kernel.accessAllowed ? 'block' : 'none';\n",
              "        })();\n",
              "      </script>\n",
              "    </div>\n",
              "\n",
              "    </div>\n",
              "  </div>\n"
            ],
            "application/vnd.google.colaboratory.intrinsic+json": {
              "type": "dataframe",
              "variable_name": "opinion_germany"
            }
          },
          "metadata": {},
          "execution_count": 4
        }
      ]
    },
    {
      "cell_type": "code",
      "source": [
        "\n",
        "\n",
        "# 1. Separiamo la colonna 'popolazione', salviamo i nomi e manteniamo solo le entrate numeriche\n",
        "popolazioni = opinion_germany['popolazione'].values\n",
        "opinioni = opinion_germany.drop(columns=['popolazione']).values\n",
        "\n",
        "\n",
        "# 4. Calcolo matrice delle distanze\n",
        "distanze = squareform(pdist(opinioni, metric='euclidean'))\n",
        "\n",
        "# 5. Calcolo sigma\n",
        "sigma_media_germany = np.mean(distanze[np.triu_indices_from(distanze, k=1)])\n",
        "sigma_mediana_germany = np.median(distanze[np.triu_indices_from(distanze, k=1)])\n",
        "\n",
        "print(\"Sigma medio:\", sigma_media_germany)\n",
        "print(\"Sigma mediano:\", sigma_mediana_germany)\n",
        "# 3. Costruzione della matrice di similarità W usando il Gaussian Kernel\n",
        "W_germany1 = np.exp(-distanze**2 / (2 * sigma_media_germany**2))\n",
        "W_germany2 = np.exp(-distanze**2 / (2 * sigma_mediana_germany**2))\n"
      ],
      "metadata": {
        "colab": {
          "base_uri": "https://localhost:8080/"
        },
        "id": "S-_s0IupkeHv",
        "outputId": "4fd4fe60-5a43-4b50-deb1-a736180345fc"
      },
      "execution_count": 5,
      "outputs": [
        {
          "output_type": "stream",
          "name": "stdout",
          "text": [
            "Sigma medio: 0.8042761411848516\n",
            "Sigma mediano: 0.7862304925971324\n"
          ]
        }
      ]
    },
    {
      "cell_type": "markdown",
      "source": [
        "Vogliamo normalizzare le matrici.\n",
        "Per gestire il fatto che le diagonali siano unitarie, costruiamo la matrice\n",
        "$W̃ = D^{-1/2}* W*D^{-1/2}$\n",
        "dove ogni entrata è W_ij divisa per la radice del prodotto dell somme per righe i e j. Questa matrice mantiene la simmetricità\n"
      ],
      "metadata": {
        "id": "9Mo_IKbvlrbC"
      }
    },
    {
      "cell_type": "code",
      "source": [
        "\n",
        "def normalize_symmetric(W):\n",
        "    # Calcolo della somma per riga (i gradi)\n",
        "    d = np.sum(W, axis=1)\n",
        "\n",
        "    # Evita divisioni per zero\n",
        "    d_inv_sqrt = np.where(d > 0, 1.0 / np.sqrt(d), 0.0)\n",
        "\n",
        "    # Costruzione della matrice D^{-1/2}\n",
        "    D_inv_sqrt = np.diag(d_inv_sqrt)\n",
        "\n",
        "    # Calcolo della matrice normalizzata simmetricamente\n",
        "    W_tilde = D_inv_sqrt @ W @ D_inv_sqrt\n",
        "\n",
        "    return W_tilde"
      ],
      "metadata": {
        "id": "gB0eglFYmyST"
      },
      "execution_count": 6,
      "outputs": []
    },
    {
      "cell_type": "code",
      "source": [
        "normalize_symmetric(W_germany1)\n",
        "normalize_symmetric(W_germany2)"
      ],
      "metadata": {
        "colab": {
          "base_uri": "https://localhost:8080/"
        },
        "id": "SACcB6bDn0W6",
        "outputId": "dab537f0-f9f6-46f3-d53a-05e3d0617577"
      },
      "execution_count": 7,
      "outputs": [
        {
          "output_type": "execute_result",
          "data": {
            "text/plain": [
              "array([[0.07104012, 0.04162952, 0.04579362, 0.04284421, 0.03178419,\n",
              "        0.04309109, 0.0469234 , 0.0439796 , 0.0454233 , 0.03820777,\n",
              "        0.03856847, 0.03708239, 0.04434679, 0.04682301, 0.03777263,\n",
              "        0.03503107, 0.03296263, 0.02989287, 0.03201718, 0.03633188,\n",
              "        0.02913246, 0.02840521, 0.03120901, 0.03129673, 0.01981472],\n",
              "       [0.04162952, 0.07019273, 0.04335329, 0.0434027 , 0.04160756,\n",
              "        0.04288708, 0.04935568, 0.03981694, 0.04118718, 0.03245797,\n",
              "        0.03677998, 0.03921116, 0.04227396, 0.04580203, 0.03457676,\n",
              "        0.04114403, 0.03605659, 0.03069081, 0.03199913, 0.03716528,\n",
              "        0.03249717, 0.03046252, 0.03303828, 0.03182207, 0.01729736],\n",
              "       [0.04579362, 0.04335329, 0.08283169, 0.05307184, 0.03995926,\n",
              "        0.03197898, 0.04246938, 0.03397881, 0.05592178, 0.02779029,\n",
              "        0.03183174, 0.03080212, 0.03935016, 0.05334425, 0.03956558,\n",
              "        0.02763111, 0.02921455, 0.02210435, 0.02403115, 0.03372731,\n",
              "        0.02311798, 0.02436543, 0.02457222, 0.02369803, 0.01201389],\n",
              "       [0.04284421, 0.0434027 , 0.05307184, 0.07108795, 0.05062518,\n",
              "        0.03474283, 0.04086309, 0.04171283, 0.05785095, 0.04094709,\n",
              "        0.02586106, 0.0347807 , 0.04562723, 0.05326754, 0.04269389,\n",
              "        0.02715839, 0.03174033, 0.02800315, 0.03379969, 0.03900485,\n",
              "        0.02455989, 0.02603655, 0.02787422, 0.02803635, 0.0192256 ],\n",
              "       [0.03178419, 0.04160756, 0.03995926, 0.05062518, 0.08337949,\n",
              "        0.03391284, 0.03560968, 0.03797343, 0.04716777, 0.0342363 ,\n",
              "        0.02376653, 0.03507626, 0.03702803, 0.04586016, 0.0388313 ,\n",
              "        0.02791857, 0.03102275, 0.02542675, 0.03210336, 0.03668854,\n",
              "        0.02515385, 0.0252222 , 0.02689797, 0.0264141 , 0.01958085],\n",
              "       [0.04309109, 0.04288708, 0.03197898, 0.03474283, 0.03391284,\n",
              "        0.06211204, 0.04482585, 0.04358319, 0.03394756, 0.03700935,\n",
              "        0.04719143, 0.0464248 , 0.04610726, 0.03911993, 0.03692193,\n",
              "        0.04936572, 0.04437455, 0.0428023 , 0.03825351, 0.03724169,\n",
              "        0.04174571, 0.04035284, 0.03993687, 0.03967392, 0.02532635],\n",
              "       [0.0469234 , 0.04935568, 0.04246938, 0.04086309, 0.03560968,\n",
              "        0.04482585, 0.05854207, 0.04480291, 0.04342584, 0.03836085,\n",
              "        0.04392302, 0.04503187, 0.04758844, 0.04606417, 0.03959934,\n",
              "        0.04269582, 0.04191718, 0.0387799 , 0.04034543, 0.04526819,\n",
              "        0.03717292, 0.03647596, 0.03958919, 0.03984739, 0.02596735],\n",
              "       [0.0439796 , 0.03981694, 0.03397881, 0.04171283, 0.03797343,\n",
              "        0.04358319, 0.04480291, 0.06452757, 0.04441975, 0.04438678,\n",
              "        0.03682954, 0.04005158, 0.04896867, 0.04364712, 0.03995655,\n",
              "        0.03651265, 0.03846739, 0.03808661, 0.0408727 , 0.04365538,\n",
              "        0.03160901, 0.0326281 , 0.03273675, 0.03552567, 0.02724121],\n",
              "       [0.0454233 , 0.04118718, 0.05592178, 0.05785095, 0.04716777,\n",
              "        0.03394756, 0.04342584, 0.04441975, 0.06848433, 0.0402708 ,\n",
              "        0.02803365, 0.03330659, 0.0444585 , 0.05464388, 0.04893836,\n",
              "        0.02741529, 0.03239546, 0.02790317, 0.03275583, 0.04337201,\n",
              "        0.02594808, 0.02723204, 0.02818427, 0.02951237, 0.0202199 ],\n",
              "       [0.03820777, 0.03245797, 0.02779029, 0.04094709, 0.0342363 ,\n",
              "        0.03700935, 0.03836085, 0.04438678, 0.0402708 , 0.06577434,\n",
              "        0.02848985, 0.03718573, 0.0437457 , 0.03790786, 0.04572356,\n",
              "        0.03259007, 0.0375244 , 0.04188007, 0.04979367, 0.0462522 ,\n",
              "        0.03491589, 0.03619101, 0.03987277, 0.04258789, 0.04308996],\n",
              "       [0.03856847, 0.03677998, 0.03183174, 0.02586106, 0.02376653,\n",
              "        0.04719143, 0.04392302, 0.03682954, 0.02803365, 0.02848985,\n",
              "        0.06944881, 0.04678485, 0.04095035, 0.03222038, 0.03032711,\n",
              "        0.05343585, 0.04540769, 0.04334453, 0.03210653, 0.03655975,\n",
              "        0.04620895, 0.04619148, 0.04028983, 0.039829  , 0.02157391],\n",
              "       [0.03708239, 0.03921116, 0.03080212, 0.0347807 , 0.03507626,\n",
              "        0.0464248 , 0.04503187, 0.04005158, 0.03330659, 0.03718573,\n",
              "        0.04678485, 0.05795957, 0.04409395, 0.0385665 , 0.03642166,\n",
              "        0.04639841, 0.04873281, 0.048321  , 0.04421064, 0.04393372,\n",
              "        0.04641658, 0.04813768, 0.04771337, 0.047351  , 0.03424137],\n",
              "       [0.04434679, 0.04227396, 0.03935016, 0.04562723, 0.03702803,\n",
              "        0.04610726, 0.04758844, 0.04896867, 0.0444585 , 0.0437457 ,\n",
              "        0.04095035, 0.04409395, 0.05873241, 0.04542305, 0.03968476,\n",
              "        0.03988144, 0.04260881, 0.04131509, 0.04178314, 0.04360579,\n",
              "        0.03647659, 0.03671264, 0.03791427, 0.03878135, 0.02594987],\n",
              "       [0.04682301, 0.04580203, 0.05334425, 0.05326754, 0.04586016,\n",
              "        0.03911993, 0.04606417, 0.04364712, 0.05464388, 0.03790786,\n",
              "        0.03222038, 0.0385665 , 0.04542305, 0.06425938, 0.04343978,\n",
              "        0.03324166, 0.03703436, 0.02960266, 0.03488651, 0.0421176 ,\n",
              "        0.02942875, 0.03015757, 0.03165695, 0.03247423, 0.02117946],\n",
              "       [0.03777263, 0.03457676, 0.03956558, 0.04269389, 0.0388313 ,\n",
              "        0.03692193, 0.03959934, 0.03995655, 0.04893836, 0.04572356,\n",
              "        0.03032711, 0.03642166, 0.03968476, 0.04343978, 0.065695  ,\n",
              "        0.03259928, 0.03752333, 0.0359014 , 0.04191968, 0.04789775,\n",
              "        0.03509484, 0.03715227, 0.03753025, 0.04012447, 0.03315752],\n",
              "       [0.03503107, 0.04114403, 0.02763111, 0.02715839, 0.02791857,\n",
              "        0.04936572, 0.04269582, 0.03651265, 0.02741529, 0.03259007,\n",
              "        0.05343585, 0.04639841, 0.03988144, 0.03324166, 0.03259928,\n",
              "        0.06435012, 0.04779531, 0.04531565, 0.03784834, 0.03805522,\n",
              "        0.05205933, 0.047883  , 0.04598681, 0.04394867, 0.02697751],\n",
              "       [0.03296263, 0.03605659, 0.02921455, 0.03174033, 0.03102275,\n",
              "        0.04437455, 0.04191718, 0.03846739, 0.03239546, 0.0375244 ,\n",
              "        0.04540769, 0.04873281, 0.04260881, 0.03703436, 0.03752333,\n",
              "        0.04779531, 0.05902361, 0.04886859, 0.04580798, 0.04397932,\n",
              "        0.05137724, 0.05225276, 0.05023513, 0.04577883, 0.03580483],\n",
              "       [0.02989287, 0.03069081, 0.02210435, 0.02800315, 0.02542675,\n",
              "        0.0428023 , 0.0387799 , 0.03808661, 0.02790317, 0.04188007,\n",
              "        0.04334453, 0.048321  , 0.04131509, 0.02960266, 0.0359014 ,\n",
              "        0.04531565, 0.04886859, 0.06176398, 0.05012118, 0.04328942,\n",
              "        0.04996559, 0.0508885 , 0.05041011, 0.05296508, 0.04661905],\n",
              "       [0.03201718, 0.03199913, 0.02403115, 0.03379969, 0.03210336,\n",
              "        0.03825351, 0.04034543, 0.0408727 , 0.03275583, 0.04979367,\n",
              "        0.03210653, 0.04421064, 0.04178314, 0.03488651, 0.04191968,\n",
              "        0.03784834, 0.04580798, 0.05012118, 0.0607452 , 0.04908612,\n",
              "        0.04382819, 0.04432108, 0.05062981, 0.05041514, 0.05139557],\n",
              "       [0.03633188, 0.03716528, 0.03372731, 0.03900485, 0.03668854,\n",
              "        0.03724169, 0.04526819, 0.04365538, 0.04337201, 0.0462522 ,\n",
              "        0.03655975, 0.04393372, 0.04360579, 0.0421176 , 0.04789775,\n",
              "        0.03805522, 0.04397932, 0.04328942, 0.04908612, 0.05817576,\n",
              "        0.04094037, 0.0418519 , 0.04386205, 0.04626694, 0.04034274],\n",
              "       [0.02913246, 0.03249717, 0.02311798, 0.02455989, 0.02515385,\n",
              "        0.04174571, 0.03717292, 0.03160901, 0.02594808, 0.03491589,\n",
              "        0.04620895, 0.04641658, 0.03647659, 0.02942875, 0.03509484,\n",
              "        0.05205933, 0.05137724, 0.04996559, 0.04382819, 0.04094037,\n",
              "        0.06416134, 0.05787586, 0.05577094, 0.04949717, 0.03945375],\n",
              "       [0.02840521, 0.03046252, 0.02436543, 0.02603655, 0.0252222 ,\n",
              "        0.04035284, 0.03647596, 0.0326281 , 0.02723204, 0.03619101,\n",
              "        0.04619148, 0.04813768, 0.03671264, 0.03015757, 0.03715227,\n",
              "        0.047883  , 0.05225276, 0.0508885 , 0.04432108, 0.0418519 ,\n",
              "        0.05787586, 0.06315328, 0.05497082, 0.05269562, 0.04091677],\n",
              "       [0.03120901, 0.03303828, 0.02457222, 0.02787422, 0.02689797,\n",
              "        0.03993687, 0.03958919, 0.03273675, 0.02818427, 0.03987277,\n",
              "        0.04028983, 0.04771337, 0.03791427, 0.03165695, 0.03753025,\n",
              "        0.04598681, 0.05023513, 0.05041011, 0.05062981, 0.04386205,\n",
              "        0.05577094, 0.05497082, 0.0609799 , 0.05315765, 0.04621599],\n",
              "       [0.03129673, 0.03182207, 0.02369803, 0.02803635, 0.0264141 ,\n",
              "        0.03967392, 0.03984739, 0.03552567, 0.02951237, 0.04258789,\n",
              "        0.039829  , 0.047351  , 0.03878135, 0.03247423, 0.04012447,\n",
              "        0.04394867, 0.04577883, 0.05296508, 0.05041514, 0.04626694,\n",
              "        0.04949717, 0.05269562, 0.05315765, 0.06092371, 0.04957521],\n",
              "       [0.01981472, 0.01729736, 0.01201389, 0.0192256 , 0.01958085,\n",
              "        0.02532635, 0.02596735, 0.02724121, 0.0202199 , 0.04308996,\n",
              "        0.02157391, 0.03424137, 0.02594987, 0.02117946, 0.03315752,\n",
              "        0.02697751, 0.03580483, 0.04661905, 0.05139557, 0.04034274,\n",
              "        0.03945375, 0.04091677, 0.04621599, 0.04957521, 0.0942388 ]])"
            ]
          },
          "metadata": {},
          "execution_count": 7
        }
      ]
    },
    {
      "cell_type": "markdown",
      "source": [
        "Questa matrice potrebbe però non essere normalizzata per righe.\n",
        "Calcoliamo la somma di ogni riga di $W ̃$ e visualizziamo il massimo."
      ],
      "metadata": {
        "id": "zXLeoiGApIe2"
      }
    },
    {
      "cell_type": "code",
      "source": [
        "w_max1= W_germany1.sum(axis=1).max()\n",
        "w_max1"
      ],
      "metadata": {
        "colab": {
          "base_uri": "https://localhost:8080/"
        },
        "id": "HpQ2qKKdpo4C",
        "outputId": "eb9c0d32-cdab-4f8f-d650-52d115b9d587"
      },
      "execution_count": 8,
      "outputs": [
        {
          "output_type": "execute_result",
          "data": {
            "text/plain": [
              "np.float64(17.525710103560467)"
            ]
          },
          "metadata": {},
          "execution_count": 8
        }
      ]
    },
    {
      "cell_type": "code",
      "source": [
        "w_max2= W_germany2.sum(axis=1).max()\n",
        "w_max2"
      ],
      "metadata": {
        "colab": {
          "base_uri": "https://localhost:8080/"
        },
        "id": "axV_HieXp2MD",
        "outputId": "454fee63-ac38-4a4d-da72-7ea675b94d80"
      },
      "execution_count": 9,
      "outputs": [
        {
          "output_type": "execute_result",
          "data": {
            "text/plain": [
              "np.float64(17.25340569841998)"
            ]
          },
          "metadata": {},
          "execution_count": 9
        }
      ]
    },
    {
      "cell_type": "markdown",
      "source": [
        "Dato che il massimo è maggiore di 1, scaliamo la matrice con il fattore\n",
        "$$\n",
        "\\alpha = \\min\\left(1, \\frac{1}{\\tilde{w}_{\\max}}\\right)\n",
        "$$\n",
        "$$\n",
        "\\tilde{W} = \\alpha \\cdot W\n",
        "$$\n"
      ],
      "metadata": {
        "id": "ZDWaYAekpzPy"
      }
    },
    {
      "cell_type": "code",
      "source": [
        "alpha1= min(1.0, 1.0 / w_max1)\n",
        "alpha1"
      ],
      "metadata": {
        "colab": {
          "base_uri": "https://localhost:8080/"
        },
        "id": "7dd3x3EAq4te",
        "outputId": "1ffc2301-c9e2-4f36-9131-4e0d6ed17156"
      },
      "execution_count": 10,
      "outputs": [
        {
          "output_type": "execute_result",
          "data": {
            "text/plain": [
              "np.float64(0.0570590289403933)"
            ]
          },
          "metadata": {},
          "execution_count": 10
        }
      ]
    },
    {
      "cell_type": "code",
      "source": [
        "alpha2= min(1.0, 1.0 / w_max2)\n",
        "alpha2"
      ],
      "metadata": {
        "colab": {
          "base_uri": "https://localhost:8080/"
        },
        "id": "KJjuYVhyrEUe",
        "outputId": "0fcbea30-0a1e-47d8-a4b6-e328abb0ad8a"
      },
      "execution_count": 11,
      "outputs": [
        {
          "output_type": "execute_result",
          "data": {
            "text/plain": [
              "np.float64(0.057959571430675705)"
            ]
          },
          "metadata": {},
          "execution_count": 11
        }
      ]
    },
    {
      "cell_type": "code",
      "source": [
        "W_germany1= alpha1*W_germany1\n",
        "W_germany2= alpha2*W_germany2"
      ],
      "metadata": {
        "id": "EhSjSYlsrJTW"
      },
      "execution_count": 12,
      "outputs": []
    },
    {
      "cell_type": "markdown",
      "source": [
        "Otteniamo una matrice simmetrica e substocasica"
      ],
      "metadata": {
        "id": "uDW-tLGIuxIs"
      }
    },
    {
      "cell_type": "code",
      "source": [
        "W_germany1.sum(axis=1)"
      ],
      "metadata": {
        "colab": {
          "base_uri": "https://localhost:8080/"
        },
        "id": "u4WMnr638U7k",
        "outputId": "8fba7b65-be2e-4e85-9837-de244dcd4a5c"
      },
      "execution_count": 13,
      "outputs": [
        {
          "output_type": "execute_result",
          "data": {
            "text/plain": [
              "array([0.82288624, 0.83243955, 0.70950135, 0.82188234, 0.70569759,\n",
              "       0.93595314, 0.99066755, 0.90249747, 0.85179027, 0.88609246,\n",
              "       0.84049451, 1.        , 0.98759766, 0.90574971, 0.88727035,\n",
              "       0.90424225, 0.98252475, 0.94028912, 0.9558186 , 0.99670854,\n",
              "       0.90635665, 0.92027009, 0.95187336, 0.95282914, 0.6263527 ])"
            ]
          },
          "metadata": {},
          "execution_count": 13
        }
      ]
    },
    {
      "cell_type": "code",
      "source": [
        "\n",
        "matrice_similarità_germany1 = pd.DataFrame(W_germany1, index=popolazioni, columns=popolazioni)\n",
        "matrice_similarità_germany1.to_csv(\"similarità_germany_media.csv\", index=True)\n",
        "matrice_similarità_germany2 = pd.DataFrame(W_germany2, index=popolazioni, columns=popolazioni)\n",
        "matrice_similarità_germany2.to_csv(\"similarità_germany_mediana.csv\", index=True)"
      ],
      "metadata": {
        "id": "o7w0EVoumlCp"
      },
      "execution_count": 12,
      "outputs": []
    },
    {
      "cell_type": "markdown",
      "source": [
        "Paesi Bassi"
      ],
      "metadata": {
        "id": "glBlXSPh87zf"
      }
    },
    {
      "cell_type": "code",
      "source": [
        "opinion_NL = pd.read_csv('/content/matrix_NL (3).csv')\n",
        "\n",
        "popolazioni = opinion_NL['popolazione'].values\n",
        "opinioni = opinion_NL.drop(columns=['popolazione']).values\n",
        "\n",
        "\n",
        "distanze = squareform(pdist(opinioni, metric='euclidean'))\n",
        "\n",
        "\n",
        "sigma_media_NL = np.mean(distanze[np.triu_indices_from(distanze, k=1)])\n",
        "sigma_mediana_NL = np.median(distanze[np.triu_indices_from(distanze, k=1)])\n",
        "\n",
        "\n",
        "print(\"Sigma medio:\", sigma_media_NL)\n",
        "print(\"Sigma mediano:\", sigma_mediana_NL)\n",
        "\n",
        "W_NL1 = np.exp(-distanze**2 / (2 * sigma_media_NL**2))\n",
        "W_NL2 = np.exp(-distanze**2 / (2 * sigma_mediana_NL**2))\n",
        "\n"
      ],
      "metadata": {
        "colab": {
          "base_uri": "https://localhost:8080/"
        },
        "id": "IfjmHtdGuZpC",
        "outputId": "de5eaef2-5050-438e-fb2e-f790de3e16b7"
      },
      "execution_count": 16,
      "outputs": [
        {
          "output_type": "stream",
          "name": "stdout",
          "text": [
            "Sigma medio: 0.7565074875915685\n",
            "Sigma mediano: 0.761473945753696\n"
          ]
        }
      ]
    },
    {
      "cell_type": "code",
      "source": [
        "normalize_symmetric(W_NL1)\n",
        "normalize_symmetric(W_NL2)\n",
        "w_max1= W_NL1.sum(axis=1).max()\n",
        "w_max2= W_NL2.sum(axis=1).max()\n",
        "alpha1= min(1.0, 1.0 / w_max1)\n",
        "alpha2= min(1.0, 1.0 / w_max2)\n",
        "W_NL1= alpha1*W_NL1\n",
        "W_NL2= alpha2*W_NL2"
      ],
      "metadata": {
        "id": "zYYrRr18uVP0"
      },
      "execution_count": 17,
      "outputs": []
    },
    {
      "cell_type": "code",
      "source": [
        "matrice_similarità_NL1 = pd.DataFrame(W_NL1, index=popolazioni, columns=popolazioni)\n",
        "matrice_similarità_NL1.to_csv(\"similarità_NL_media.csv\", index=True)\n",
        "matrice_similarità_NL2 = pd.DataFrame(W_NL2, index=popolazioni, columns=popolazioni)\n",
        "matrice_similarità_NL2.to_csv(\"similarità_NL_mediana.csv\", index=True)"
      ],
      "metadata": {
        "id": "IXKUE7iRu2fp"
      },
      "execution_count": 18,
      "outputs": []
    },
    {
      "cell_type": "markdown",
      "source": [
        "Ungheria"
      ],
      "metadata": {
        "id": "5J1dz73c9AXo"
      }
    },
    {
      "cell_type": "code",
      "source": [
        "opinion_Hungary = pd.read_csv('/content/matrix_Hungary (3).csv')\n",
        "\n",
        "popolazioni = opinion_Hungary['popolazione'].values\n",
        "opinioni = opinion_Hungary.drop(columns=['popolazione']).values\n",
        "\n",
        "opinioni = np.array(opinioni, dtype=np.float64)\n",
        "\n",
        "\n",
        "distanze = squareform(pdist(opinioni, metric='euclidean'))\n",
        "\n",
        "\n",
        "sigma_media_Hungary = np.mean(distanze[np.triu_indices_from(distanze, k=1)])\n",
        "sigma_mediana_Hungary = np.median(distanze[np.triu_indices_from(distanze, k=1)])\n",
        "\n",
        "\n",
        "print(\"Sigma medio:\", sigma_media_Hungary)\n",
        "print(\"Sigma mediano:\", sigma_mediana_Hungary)\n",
        "\n",
        "W_Hungary1 = np.exp(-distanze**2 / (2 * sigma_media_Hungary**2))\n",
        "W_Hungary2 = np.exp(-distanze**2 / (2 * sigma_mediana_Hungary**2))\n",
        "\n",
        "normalize_symmetric(W_Hungary1)\n",
        "normalize_symmetric(W_Hungary2)\n",
        "w_max1= W_Hungary1.sum(axis=1).max()\n",
        "w_max2= W_Hungary2.sum(axis=1).max()\n",
        "alpha1= min(1.0, 1.0 / w_max1)\n",
        "alpha2= min(1.0, 1.0 / w_max2)\n",
        "W_Hungary1= alpha1*W_Hungary1\n",
        "W_Hungary2= alpha2*W_Hungary2\n",
        "\n",
        "\n",
        "matrice_similarità_Hungary1 = pd.DataFrame(W_Hungary1, index=popolazioni, columns=popolazioni)\n",
        "matrice_similarità_Hungary1.to_csv(\"similarità_Hungary_media.csv\", index=True)\n",
        "matrice_similarità_Hungary2 = pd.DataFrame(W_Hungary2, index=popolazioni, columns=popolazioni)\n",
        "matrice_similarità_Hungary2.to_csv(\"similarità_Hungary_mediana.csv\", index=True)"
      ],
      "metadata": {
        "colab": {
          "base_uri": "https://localhost:8080/"
        },
        "id": "uUAjp19avIMP",
        "outputId": "89bac924-8b9b-4a38-dc6b-cfd9df0ba42c"
      },
      "execution_count": 19,
      "outputs": [
        {
          "output_type": "stream",
          "name": "stdout",
          "text": [
            "Sigma medio: 0.681184134209904\n",
            "Sigma mediano: 0.6657244952077255\n"
          ]
        }
      ]
    },
    {
      "cell_type": "markdown",
      "source": [
        "Norvegia"
      ],
      "metadata": {
        "id": "5xUzuDoF9FlX"
      }
    },
    {
      "cell_type": "code",
      "source": [
        "opinion_Norway = pd.read_csv('/content/matrix_Norway (4).csv')\n",
        "\n",
        "popolazioni = opinion_Norway['popolazione'].values\n",
        "opinioni = opinion_Norway.drop(columns=['popolazione']).values\n",
        "\n",
        "\n",
        "opinioni = np.array(opinioni, dtype=np.float64)\n",
        "\n",
        "\n",
        "distanze = squareform(pdist(opinioni, metric='euclidean'))\n",
        "\n",
        "\n",
        "sigma_media_Norway = np.mean(distanze[np.triu_indices_from(distanze, k=1)])\n",
        "sigma_mediana_Norway = np.median(distanze[np.triu_indices_from(distanze, k=1)])\n",
        "\n",
        "\n",
        "print(\"Sigma medio:\", sigma_media_Norway)\n",
        "print(\"Sigma mediano:\", sigma_mediana_Norway)\n",
        "\n",
        "W_Norway1 = np.exp(-distanze**2 / (2 * sigma_media_Norway**2))\n",
        "W_Norway2 = np.exp(-distanze**2 / (2 * sigma_mediana_Norway**2))\n",
        "\n",
        "normalize_symmetric(W_Norway1)\n",
        "normalize_symmetric(W_Norway2)\n",
        "w_max1= W_Norway1.sum(axis=1).max()\n",
        "w_max2= W_Norway2.sum(axis=1).max()\n",
        "alpha1= min(1.0, 1.0 / w_max1)\n",
        "alpha2= min(1.0, 1.0 / w_max2)\n",
        "W_Norway1= alpha1*W_Norway1\n",
        "W_Norway2= alpha2*W_Norway2\n",
        "\n",
        "matrice_similarità_Norway1 = pd.DataFrame(W_Norway1, index=popolazioni, columns=popolazioni)\n",
        "matrice_similarità_Norway1.to_csv(\"similarità_Norway_media.csv\", index=True)\n",
        "matrice_similarità_Norway2 = pd.DataFrame(W_Norway2, index=popolazioni, columns=popolazioni)\n",
        "matrice_similarità_Norway2.to_csv(\"similarità_Norway_mediana.csv\", index=True)"
      ],
      "metadata": {
        "colab": {
          "base_uri": "https://localhost:8080/"
        },
        "id": "ZFVgUIjKvi9z",
        "outputId": "113672e2-9898-4b69-9185-e712befba4da"
      },
      "execution_count": 20,
      "outputs": [
        {
          "output_type": "stream",
          "name": "stdout",
          "text": [
            "Sigma medio: 0.8225606577835773\n",
            "Sigma mediano: 0.8028151577886948\n"
          ]
        }
      ]
    },
    {
      "cell_type": "markdown",
      "source": [
        "Danimarca"
      ],
      "metadata": {
        "id": "jyEZ_iFZ9LLA"
      }
    },
    {
      "cell_type": "code",
      "source": [
        "opinion_Denmark = pd.read_csv('/content/matrix_Denmark (3).csv')\n",
        "\n",
        "popolazioni = opinion_Denmark['popolazione'].values\n",
        "opinioni = opinion_Denmark.drop(columns=['popolazione']).values\n",
        "\n",
        "opinioni = np.array(opinioni, dtype=np.float64)\n",
        "\n",
        "\n",
        "distanze = squareform(pdist(opinioni, metric='euclidean'))\n",
        "\n",
        "\n",
        "sigma_media_Denmark = np.mean(distanze[np.triu_indices_from(distanze, k=1)])\n",
        "sigma_mediana_Denmark = np.median(distanze[np.triu_indices_from(distanze, k=1)])\n",
        "\n",
        "\n",
        "print(\"Sigma medio:\", sigma_media_Denmark)\n",
        "print(\"Sigma mediano:\", sigma_mediana_Denmark)\n",
        "\n",
        "W_Denmark1 = np.exp(-distanze**2 / (2 * sigma_media_Denmark**2))\n",
        "W_Denmark2 = np.exp(-distanze**2 / (2 * sigma_mediana_Denmark**2))\n",
        "\n",
        "\n",
        "normalize_symmetric(W_Denmark1)\n",
        "normalize_symmetric(W_Denmark2)\n",
        "w_max1= W_Denmark1.sum(axis=1).max()\n",
        "w_max2= W_Denmark2.sum(axis=1).max()\n",
        "alpha1= min(1.0, 1.0 / w_max1)\n",
        "alpha2= min(1.0, 1.0 / w_max2)\n",
        "W_Denmark1= alpha1*W_Denmark1\n",
        "W_Denmark2= alpha2*W_Denmark2\n",
        "\n",
        "\n",
        "matrice_similarità_Denmark1 = pd.DataFrame(W_Denmark1, index=popolazioni, columns=popolazioni)\n",
        "matrice_similarità_Denmark1.to_csv(\"similarità_Denmark_media.csv\", index=True)\n",
        "matrice_similarità_Denmark2 = pd.DataFrame(W_Denmark2, index=popolazioni, columns=popolazioni)\n",
        "matrice_similarità_Denmark2.to_csv(\"similarità_Denmark_mediana.csv\", index=True)"
      ],
      "metadata": {
        "colab": {
          "base_uri": "https://localhost:8080/"
        },
        "id": "deDVMcVov3b9",
        "outputId": "486bf7f2-f10c-49c7-b3b3-16fccc4888eb"
      },
      "execution_count": 22,
      "outputs": [
        {
          "output_type": "stream",
          "name": "stdout",
          "text": [
            "Sigma medio: 0.8315012693447297\n",
            "Sigma mediano: 0.7794788943108493\n"
          ]
        }
      ]
    }
  ]
}